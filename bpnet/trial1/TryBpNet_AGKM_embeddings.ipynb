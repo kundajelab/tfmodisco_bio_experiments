{
 "cells": [
  {
   "cell_type": "code",
   "execution_count": 1,
   "metadata": {},
   "outputs": [],
   "source": [
    "import numpy as np\n",
    "import h5py\n",
    "\n",
    "f = h5py.File(\"/oak/stanford/groups/akundaje/avsec/basepair/data/\"\n",
    "              +\"processed/comparison/output/nexus,peaks,OSNK,0,10\"\n",
    "              +\",1,FALSE,same,0.5,64,25,0.004,9,FALSE,[1,50],TRUE\"\n",
    "              +\",FALSE,1/deeplift.imp_score.h5\", \"r\")\n",
    "#f = h5py.File(\"/users/avanti/deeplift.imp_score.h5\",\"r\")\n",
    "nanog_mask = np.array(f['metadata']['interval_from_task'][:]=='Nanog')\n",
    "nanog_profile_wn_hypimp = np.array(f[\"hyp_imp/Nanog/profile/wn\"][:])[nanog_mask]\n",
    "onehot_seq = np.array(f[\"inputs/seq\"][:])[nanog_mask]\n",
    "nanog_profile_wn_contribs = nanog_profile_wn_hypimp*onehot_seq"
   ]
  },
  {
   "cell_type": "code",
   "execution_count": 2,
   "metadata": {},
   "outputs": [
    {
     "name": "stderr",
     "output_type": "stream",
     "text": [
      "TF-MoDISco is using the TensorFlow backend.\n",
      "/users/avanti/anaconda3/lib/python3.7/site-packages/tensorflow/python/framework/dtypes.py:516: FutureWarning: Passing (type, 1) or '1type' as a synonym of type is deprecated; in a future version of numpy, it will be understood as (type, (1,)) / '(1,)type'.\n",
      "  _np_qint8 = np.dtype([(\"qint8\", np.int8, 1)])\n",
      "/users/avanti/anaconda3/lib/python3.7/site-packages/tensorflow/python/framework/dtypes.py:517: FutureWarning: Passing (type, 1) or '1type' as a synonym of type is deprecated; in a future version of numpy, it will be understood as (type, (1,)) / '(1,)type'.\n",
      "  _np_quint8 = np.dtype([(\"quint8\", np.uint8, 1)])\n",
      "/users/avanti/anaconda3/lib/python3.7/site-packages/tensorflow/python/framework/dtypes.py:518: FutureWarning: Passing (type, 1) or '1type' as a synonym of type is deprecated; in a future version of numpy, it will be understood as (type, (1,)) / '(1,)type'.\n",
      "  _np_qint16 = np.dtype([(\"qint16\", np.int16, 1)])\n",
      "/users/avanti/anaconda3/lib/python3.7/site-packages/tensorflow/python/framework/dtypes.py:519: FutureWarning: Passing (type, 1) or '1type' as a synonym of type is deprecated; in a future version of numpy, it will be understood as (type, (1,)) / '(1,)type'.\n",
      "  _np_quint16 = np.dtype([(\"quint16\", np.uint16, 1)])\n",
      "/users/avanti/anaconda3/lib/python3.7/site-packages/tensorflow/python/framework/dtypes.py:520: FutureWarning: Passing (type, 1) or '1type' as a synonym of type is deprecated; in a future version of numpy, it will be understood as (type, (1,)) / '(1,)type'.\n",
      "  _np_qint32 = np.dtype([(\"qint32\", np.int32, 1)])\n",
      "/users/avanti/anaconda3/lib/python3.7/site-packages/tensorflow/python/framework/dtypes.py:525: FutureWarning: Passing (type, 1) or '1type' as a synonym of type is deprecated; in a future version of numpy, it will be understood as (type, (1,)) / '(1,)type'.\n",
      "  np_resource = np.dtype([(\"resource\", np.ubyte, 1)])\n",
      "/users/avanti/anaconda3/lib/python3.7/site-packages/tensorboard/compat/tensorflow_stub/dtypes.py:541: FutureWarning: Passing (type, 1) or '1type' as a synonym of type is deprecated; in a future version of numpy, it will be understood as (type, (1,)) / '(1,)type'.\n",
      "  _np_qint8 = np.dtype([(\"qint8\", np.int8, 1)])\n",
      "/users/avanti/anaconda3/lib/python3.7/site-packages/tensorboard/compat/tensorflow_stub/dtypes.py:542: FutureWarning: Passing (type, 1) or '1type' as a synonym of type is deprecated; in a future version of numpy, it will be understood as (type, (1,)) / '(1,)type'.\n",
      "  _np_quint8 = np.dtype([(\"quint8\", np.uint8, 1)])\n",
      "/users/avanti/anaconda3/lib/python3.7/site-packages/tensorboard/compat/tensorflow_stub/dtypes.py:543: FutureWarning: Passing (type, 1) or '1type' as a synonym of type is deprecated; in a future version of numpy, it will be understood as (type, (1,)) / '(1,)type'.\n",
      "  _np_qint16 = np.dtype([(\"qint16\", np.int16, 1)])\n",
      "/users/avanti/anaconda3/lib/python3.7/site-packages/tensorboard/compat/tensorflow_stub/dtypes.py:544: FutureWarning: Passing (type, 1) or '1type' as a synonym of type is deprecated; in a future version of numpy, it will be understood as (type, (1,)) / '(1,)type'.\n",
      "  _np_quint16 = np.dtype([(\"quint16\", np.uint16, 1)])\n",
      "/users/avanti/anaconda3/lib/python3.7/site-packages/tensorboard/compat/tensorflow_stub/dtypes.py:545: FutureWarning: Passing (type, 1) or '1type' as a synonym of type is deprecated; in a future version of numpy, it will be understood as (type, (1,)) / '(1,)type'.\n",
      "  _np_qint32 = np.dtype([(\"qint32\", np.int32, 1)])\n",
      "/users/avanti/anaconda3/lib/python3.7/site-packages/tensorboard/compat/tensorflow_stub/dtypes.py:550: FutureWarning: Passing (type, 1) or '1type' as a synonym of type is deprecated; in a future version of numpy, it will be understood as (type, (1,)) / '(1,)type'.\n",
      "  np_resource = np.dtype([(\"resource\", np.ubyte, 1)])\n",
      "/users/avanti/anaconda3/lib/python3.7/site-packages/sklearn/utils/deprecation.py:143: FutureWarning: The sklearn.neighbors.kde module is  deprecated in version 0.22 and will be removed in version 0.24. The corresponding classes / functions should instead be imported from sklearn.neighbors. Anything that cannot be imported from sklearn.neighbors is now part of the private API.\n",
      "  warnings.warn(message, FutureWarning)\n"
     ]
    }
   ],
   "source": [
    "import modisco\n",
    "track_set = modisco.tfmodisco_workflow.workflow.prep_track_set(\n",
    "    task_names=[\"Nanog_profile_wn\"],\n",
    "    contrib_scores={'Nanog_profile_wn': nanog_profile_wn_contribs},\n",
    "    hypothetical_contribs={'Nanog_profile_wn': nanog_profile_wn_hypimp},\n",
    "    one_hot=onehot_seq)\n",
    "grp = h5py.File(\"/oak/stanford/groups/akundaje/avsec/basepair/data/processed/comparison/output/nexus\"\n",
    "                +\",peaks,OSNK,0,10,1,FALSE,same,0.5,64,25,0.004,9,FALSE,[1,50],TRUE,FALSE,1/deeplift\"\n",
    "                +\"/Nanog/out/profile/wn/modisco.h5\",\"r\")\n",
    "loaded_tfmodisco_results =\\\n",
    "    modisco.tfmodisco_workflow.workflow.TfModiscoResults.from_hdf5(grp, track_set=track_set)\n",
    "grp.close()\n",
    "patterns = (loaded_tfmodisco_results\n",
    "            .metacluster_idx_to_submetacluster_results[\"metacluster_0\"]\n",
    "            .seqlets_to_patterns_result.patterns)"
   ]
  },
  {
   "cell_type": "code",
   "execution_count": 3,
   "metadata": {},
   "outputs": [
    {
     "data": {
      "text/plain": [
       "98300"
      ]
     },
     "execution_count": 3,
     "metadata": {},
     "output_type": "execute_result"
    }
   ],
   "source": [
    "len(loaded_tfmodisco_results.multitask_seqlet_creation_results.final_seqlets)"
   ]
  },
  {
   "cell_type": "code",
   "execution_count": 4,
   "metadata": {},
   "outputs": [
    {
     "data": {
      "text/plain": [
       "(55233, 1000, 4)"
      ]
     },
     "execution_count": 4,
     "metadata": {},
     "output_type": "execute_result"
    }
   ],
   "source": [
    "nanog_profile_wn_contribs.shape"
   ]
  },
  {
   "cell_type": "code",
   "execution_count": 5,
   "metadata": {},
   "outputs": [
    {
     "data": {
      "text/plain": [
       "'extracted_contrib_scores = []\\nextracted_hypothetical_scores = []\\nextracted_onehot_seqs = []\\nseqlets_list = loaded_tfmodisco_results.multitask_seqlet_creation_results.final_seqlets\\n\\nwindow_around = 50\\n\\n#extract +/- 50bp around each seqlet\\nfor seqlet in seqlets_list:\\n    example_idx = seqlet.coor.example_idx\\n    start = seqlet.coor.start\\n    end = seqlet.coor.end\\n    if ((start>=window_around) and (end<=1000-window_around)):\\n        extracted_contrib_scores.append(\\n            nanog_profile_wn_contribs[example_idx,start-window_around:end+window_around])\\n        extracted_hypothetical_scores.append(\\n            nanog_profile_wn_hypimp[example_idx,start-window_around:end+window_around])\\n        extracted_onehot_seqs.append(\\n            onehot_seq[example_idx,start-window_around:end+window_around])\\n\\nnp.save(\"extracted_contrib_scores.npy\", np.array(extracted_contrib_scores))\\nnp.save(\"extracted_hypothetical_scores.npy\", np.array(extracted_hypothetical_scores))\\nnp.save(\"extracted_onehot.npy\", np.array(extracted_onehot_seqs))'"
      ]
     },
     "execution_count": 5,
     "metadata": {},
     "output_type": "execute_result"
    }
   ],
   "source": [
    "#Saving the seqlets\n",
    "\n",
    "\"\"\"extracted_contrib_scores = []\n",
    "extracted_hypothetical_scores = []\n",
    "extracted_onehot_seqs = []\n",
    "seqlets_list = loaded_tfmodisco_results.multitask_seqlet_creation_results.final_seqlets\n",
    "\n",
    "window_around = 50\n",
    "\n",
    "#extract +/- 50bp around each seqlet\n",
    "for seqlet in seqlets_list:\n",
    "    example_idx = seqlet.coor.example_idx\n",
    "    start = seqlet.coor.start\n",
    "    end = seqlet.coor.end\n",
    "    if ((start>=window_around) and (end<=1000-window_around)):\n",
    "        extracted_contrib_scores.append(\n",
    "            nanog_profile_wn_contribs[example_idx,start-window_around:end+window_around])\n",
    "        extracted_hypothetical_scores.append(\n",
    "            nanog_profile_wn_hypimp[example_idx,start-window_around:end+window_around])\n",
    "        extracted_onehot_seqs.append(\n",
    "            onehot_seq[example_idx,start-window_around:end+window_around])\n",
    "\n",
    "np.save(\"extracted_contrib_scores.npy\", np.array(extracted_contrib_scores))\n",
    "np.save(\"extracted_hypothetical_scores.npy\", np.array(extracted_hypothetical_scores))\n",
    "np.save(\"extracted_onehot.npy\", np.array(extracted_onehot_seqs))\"\"\""
   ]
  },
  {
   "cell_type": "code",
   "execution_count": 6,
   "metadata": {},
   "outputs": [
    {
     "name": "stdout",
     "output_type": "stream",
     "text": [
      "523a1a82c23711ea9f9157d4c043164e.bin\r\n",
      "523a1a82c23711ea9f9157d4c043164e_graph.bin\r\n",
      "523a1a82c23711ea9f9157d4c043164e_graph.weights\r\n",
      "523a1a82c23711ea9f9157d4c043164e.tree\r\n",
      "BpNet-Viz.ipynb\r\n",
      "commit0975f52_l6g2m0_results.hdf5\r\n",
      "commit20e04f_corrthresh0_nomemeinit_4layerembedding_results.hdf5\r\n",
      "commit20e04f_corrthresh0p1_nomemeinit_4layerembedding_results.hdf5\r\n",
      "commit20e04f_nomemeinit_4layerembedding_results.hdf5\r\n",
      "commit891181_memeinit_l6g2m0_results.hdf5\r\n",
      "commit891181_nomemeinit_l6g2m0_results.hdf5\r\n",
      "commitb86c5a_l6g2m0_results.hdf5\r\n",
      "copy_data.py\r\n",
      "copy_model.sh\r\n",
      "dcfeda32c23611ea9f9157d4c043164e.bin\r\n",
      "deeplift.imp_score.h5\r\n",
      "embedding_model.h5\r\n",
      "extracted_contrib_scores.npy\r\n",
      "extracted_hypothetical_scores.npy\r\n",
      "extracted_onehot.npy\r\n",
      "gappedkmers_l6g2m0_results.hdf5\r\n",
      "LocalNormSeqletIdentification.ipynb\r\n",
      "MakeEmbeddingModelAndRunTfModisco_corrthresh-0.1.ipynb\r\n",
      "MakeEmbeddingModelAndRunTfModisco.ipynb\r\n",
      "meme_out\r\n",
      "model.h5\r\n",
      "myrun_results.hdf5\r\n",
      "presparserun_l8g3m2_results.hdf5\r\n",
      "presparserun_results.hdf5\r\n",
      "ReplaceSeqletsWithAggregates-Copy1.ipynb\r\n",
      "ReplaceSeqletsWithAggregates.ipynb\r\n",
      "runme.sh\r\n",
      "sparserun_l6g2m0_results.hdf5\r\n",
      "sparserun_results.hdf5\r\n",
      "trial1.deeplift.imp_score.h5\r\n",
      "trial1.modisco.h5\r\n",
      "TryBpNet_AGKM_embeddings.ipynb\r\n",
      "TryBpNet.ipynb\r\n",
      "TryBpNet-MEMEinit.ipynb\r\n",
      "Trying_Advanced_GappedKmerEmbedding.ipynb\r\n",
      "Trying_FullConv_FilterEmbedding.ipynb\r\n",
      "Untitled.ipynb\r\n"
     ]
    }
   ],
   "source": [
    "!ls"
   ]
  },
  {
   "cell_type": "code",
   "execution_count": 7,
   "metadata": {
    "scrolled": true
   },
   "outputs": [],
   "source": [
    "#for i in range(10):\n",
    "#    seqlets_list = loaded_tfmodisco_results.multitask_seqlet_creation_results.final_seqlets\n",
    "#    modisco.visualization.viz_sequence.plot_weights(seqlets_list[i][\"Nanog_profile_wn_contrib_scores\"].fwd)"
   ]
  },
  {
   "cell_type": "code",
   "execution_count": 8,
   "metadata": {
    "scrolled": true
   },
   "outputs": [
    {
     "data": {
      "text/plain": [
       "'%matplotlib inline\\nfrom modisco.visualization import viz_sequence\\nfor idx,pattern in enumerate(patterns):\\n    print(\"pattern idx\",idx)\\n    print(len(pattern.seqlets))\\n    viz_sequence.plot_weights(\\n        pattern[\"Nanog_profile_wn_contrib_scores\"].fwd)\\n    viz_sequence.plot_weights(pattern[\"sequence\"].fwd)'"
      ]
     },
     "execution_count": 8,
     "metadata": {},
     "output_type": "execute_result"
    }
   ],
   "source": [
    "#visualize the saved patterns:\n",
    "\"\"\"%matplotlib inline\n",
    "from modisco.visualization import viz_sequence\n",
    "for idx,pattern in enumerate(patterns):\n",
    "    print(\"pattern idx\",idx)\n",
    "    print(len(pattern.seqlets))\n",
    "    viz_sequence.plot_weights(\n",
    "        pattern[\"Nanog_profile_wn_contrib_scores\"].fwd)\n",
    "    viz_sequence.plot_weights(pattern[\"sequence\"].fwd)\"\"\""
   ]
  },
  {
   "cell_type": "code",
   "execution_count": 10,
   "metadata": {
    "scrolled": false
   },
   "outputs": [
    {
     "name": "stdout",
     "output_type": "stream",
     "text": [
      "/mnt/lab_data2/avanti/tfmodisco\n",
      "\u001b[33mcommit bbbffc5869ba7e7903a648ee1ceb96732f2b7c48\u001b[m\u001b[33m (\u001b[m\u001b[1;36mHEAD -> \u001b[m\u001b[1;32madvanced_gapped_gkmers\u001b[m\u001b[33m, \u001b[m\u001b[1;31morigin/advanced_gapped_gkmers\u001b[m\u001b[33m)\u001b[m\n",
      "Author: Av Shrikumar <avanti.shrikumar@gmail.com>\n",
      "Date:   Thu Aug 6 13:49:59 2020 -0700\n",
      "\n",
      "    going back to forcing the number of threads to be 1\n",
      "/mnt/lab_data2/avanti/tfmodisco_bio_experiments/bpnet/trial1\n",
      "MEMORY 102.601650176\n",
      "On task Nanog_profile_wn\n",
      "Computing windowed sums on original\n",
      "Generating null dist\n",
      "peak(mu)= 0.00754788601747714\n",
      "Computing threshold\n",
      "Thresholds from null dist were -0.026598811149597168  and  0.2509317398071289\n",
      "Passing windows frac was 0.04676685078463518 , which is above  0.03 ; adjusting\n",
      "Final raw thresholds are -0.3184376752376554  and  0.3184376752376554\n",
      "Final transformed thresholds are -0.9699999852203116  and  0.9699999852203116\n"
     ]
    },
    {
     "data": {
      "image/png": "[encoded data removed]",
      "text/plain": [
       "<Figure size 432x288 with 1 Axes>"
      ]
     },
     "metadata": {
      "needs_background": "light"
     },
     "output_type": "display_data"
    },
    {
     "name": "stdout",
     "output_type": "stream",
     "text": [
      "Got 98300 coords\n",
      "After resolving overlaps, got 98300 seqlets\n",
      "Across all tasks, the weakest transformed threshold used was: 0.9698999852203116\n",
      "MEMORY 103.515246592\n",
      "98300 identified in total\n",
      "1 activity patterns with support >= 2000 out of 3 possible patterns\n",
      "Metacluster sizes:  [98297]\n",
      "Idx to activities:  {0: '1'}\n",
      "MEMORY 103.516237824\n",
      "On metacluster 0\n",
      "Metacluster size 98297 limited to 50000\n",
      "Relevant tasks:  ('Nanog_profile_wn',)\n",
      "Relevant signs:  (1,)\n",
      "TfModiscoSeqletsToPatternsFactory: seed=1234\n",
      "(Round 1) num seqlets: 50000\n",
      "(Round 1) Computing coarse affmat\n",
      "MEMORY 103.51597568\n",
      "Beginning embedding computation\n"
     ]
    },
    {
     "name": "stderr",
     "output_type": "stream",
     "text": [
      "[Parallel(n_jobs=10)]: Using backend LokyBackend with 10 concurrent workers.\n",
      "[Parallel(n_jobs=10)]: Done  30 tasks      | elapsed:   31.1s\n",
      "[Parallel(n_jobs=10)]: Done 180 tasks      | elapsed:   35.0s\n",
      "[Parallel(n_jobs=10)]: Done 430 tasks      | elapsed:   41.0s\n",
      "[Parallel(n_jobs=10)]: Done 780 tasks      | elapsed:   49.2s\n",
      "[Parallel(n_jobs=10)]: Done 1230 tasks      | elapsed:  1.0min\n",
      "[Parallel(n_jobs=10)]: Done 1780 tasks      | elapsed:  1.2min\n",
      "[Parallel(n_jobs=10)]: Done 2430 tasks      | elapsed:  1.5min\n",
      "[Parallel(n_jobs=10)]: Done 3180 tasks      | elapsed:  1.8min\n",
      "[Parallel(n_jobs=10)]: Done 4030 tasks      | elapsed:  2.1min\n",
      "[Parallel(n_jobs=10)]: Done 4980 tasks      | elapsed:  2.4min\n",
      "[Parallel(n_jobs=10)]: Done 6030 tasks      | elapsed:  2.8min\n",
      "[Parallel(n_jobs=10)]: Done 7180 tasks      | elapsed:  3.2min\n",
      "[Parallel(n_jobs=10)]: Done 8430 tasks      | elapsed:  3.6min\n",
      "[Parallel(n_jobs=10)]: Done 9780 tasks      | elapsed:  4.1min\n",
      "[Parallel(n_jobs=10)]: Done 11230 tasks      | elapsed:  4.6min\n",
      "[Parallel(n_jobs=10)]: Done 12780 tasks      | elapsed:  5.2min\n",
      "[Parallel(n_jobs=10)]: Done 14430 tasks      | elapsed:  5.8min\n",
      "[Parallel(n_jobs=10)]: Done 16180 tasks      | elapsed:  6.4min\n",
      "[Parallel(n_jobs=10)]: Done 18030 tasks      | elapsed:  7.0min\n",
      "[Parallel(n_jobs=10)]: Done 19980 tasks      | elapsed:  7.9min\n",
      "[Parallel(n_jobs=10)]: Done 22030 tasks      | elapsed:  8.6min\n",
      "[Parallel(n_jobs=10)]: Done 24180 tasks      | elapsed:  9.3min\n",
      "[Parallel(n_jobs=10)]: Done 26430 tasks      | elapsed: 10.1min\n",
      "[Parallel(n_jobs=10)]: Done 28780 tasks      | elapsed: 11.0min\n",
      "[Parallel(n_jobs=10)]: Done 31230 tasks      | elapsed: 11.9min\n",
      "[Parallel(n_jobs=10)]: Done 33780 tasks      | elapsed: 12.8min\n",
      "[Parallel(n_jobs=10)]: Done 36430 tasks      | elapsed: 13.7min\n",
      "[Parallel(n_jobs=10)]: Done 39180 tasks      | elapsed: 14.7min\n",
      "[Parallel(n_jobs=10)]: Done 42030 tasks      | elapsed: 15.8min\n",
      "[Parallel(n_jobs=10)]: Done 44980 tasks      | elapsed: 17.1min\n",
      "[Parallel(n_jobs=10)]: Done 48030 tasks      | elapsed: 18.3min\n",
      "[Parallel(n_jobs=10)]: Done 50000 out of 50000 | elapsed: 19.2min finished\n",
      "[Parallel(n_jobs=10)]: Using backend LokyBackend with 10 concurrent workers.\n",
      "[Parallel(n_jobs=10)]: Done  40 tasks      | elapsed:    1.3s\n",
      "[Parallel(n_jobs=10)]: Done 340 tasks      | elapsed:    8.9s\n",
      "[Parallel(n_jobs=10)]: Done 840 tasks      | elapsed:   20.9s\n",
      "[Parallel(n_jobs=10)]: Done 1540 tasks      | elapsed:   38.6s\n",
      "[Parallel(n_jobs=10)]: Done 2440 tasks      | elapsed:   58.3s\n",
      "[Parallel(n_jobs=10)]: Done 3540 tasks      | elapsed:  1.4min\n",
      "[Parallel(n_jobs=10)]: Done 4760 tasks      | elapsed:  1.8min\n",
      "[Parallel(n_jobs=10)]: Done 5510 tasks      | elapsed:  2.1min\n",
      "[Parallel(n_jobs=10)]: Done 6360 tasks      | elapsed:  2.4min\n",
      "[Parallel(n_jobs=10)]: Done 7310 tasks      | elapsed:  2.8min\n",
      "[Parallel(n_jobs=10)]: Done 8360 tasks      | elapsed:  3.2min\n",
      "[Parallel(n_jobs=10)]: Done 9510 tasks      | elapsed:  3.9min\n",
      "[Parallel(n_jobs=10)]: Done 10760 tasks      | elapsed:  4.3min\n",
      "[Parallel(n_jobs=10)]: Done 12110 tasks      | elapsed:  4.7min\n",
      "[Parallel(n_jobs=10)]: Done 13560 tasks      | elapsed:  5.2min\n",
      "[Parallel(n_jobs=10)]: Done 15110 tasks      | elapsed:  5.7min\n",
      "[Parallel(n_jobs=10)]: Done 16760 tasks      | elapsed:  6.3min\n",
      "[Parallel(n_jobs=10)]: Done 18510 tasks      | elapsed:  6.9min\n",
      "[Parallel(n_jobs=10)]: Done 20360 tasks      | elapsed:  7.7min\n",
      "[Parallel(n_jobs=10)]: Done 22310 tasks      | elapsed:  8.4min\n",
      "[Parallel(n_jobs=10)]: Done 24360 tasks      | elapsed:  9.1min\n",
      "[Parallel(n_jobs=10)]: Done 26510 tasks      | elapsed:  9.8min\n",
      "[Parallel(n_jobs=10)]: Done 28760 tasks      | elapsed: 10.5min\n",
      "[Parallel(n_jobs=10)]: Done 31110 tasks      | elapsed: 11.5min\n",
      "[Parallel(n_jobs=10)]: Done 33560 tasks      | elapsed: 12.4min\n",
      "[Parallel(n_jobs=10)]: Done 36110 tasks      | elapsed: 13.3min\n",
      "[Parallel(n_jobs=10)]: Done 38760 tasks      | elapsed: 14.2min\n",
      "[Parallel(n_jobs=10)]: Done 41510 tasks      | elapsed: 15.3min\n",
      "[Parallel(n_jobs=10)]: Done 44360 tasks      | elapsed: 16.3min\n",
      "[Parallel(n_jobs=10)]: Done 47310 tasks      | elapsed: 17.5min\n",
      "[Parallel(n_jobs=10)]: Done 50000 out of 50000 | elapsed: 19.1min finished\n",
      "[Parallel(n_jobs=1)]: Using backend SequentialBackend with 1 concurrent workers.\n",
      "[Parallel(n_jobs=1)]: Done 50000 out of 50000 | elapsed: 15.5min finished\n",
      "[Parallel(n_jobs=1)]: Using backend SequentialBackend with 1 concurrent workers.\n",
      "[Parallel(n_jobs=1)]: Done 50000 out of 50000 | elapsed: 16.2min finished\n"
     ]
    },
    {
     "name": "stdout",
     "output_type": "stream",
     "text": [
      "Finished embedding computation in 4998.69 s\n",
      "Starting affinity matrix computations\n"
     ]
    },
    {
     "ename": "RuntimeError",
     "evalue": "nnz of the result is too large",
     "output_type": "error",
     "traceback": [
      "\u001b[0;31m---------------------------------------------------------------------------\u001b[0m",
      "\u001b[0;31mRuntimeError\u001b[0m                              Traceback (most recent call last)",
      "\u001b[0;32m<ipython-input-10-b78ddf4bc7cb>\u001b[0m in \u001b[0;36m<module>\u001b[0;34m\u001b[0m\n\u001b[1;32m     89\u001b[0m     \u001b[0mcontrib_scores\u001b[0m\u001b[0;34m=\u001b[0m\u001b[0;34m{\u001b[0m\u001b[0;34m'Nanog_profile_wn'\u001b[0m\u001b[0;34m:\u001b[0m \u001b[0mnanog_profile_wn_contribs\u001b[0m\u001b[0;34m}\u001b[0m\u001b[0;34m,\u001b[0m\u001b[0;34m\u001b[0m\u001b[0;34m\u001b[0m\u001b[0m\n\u001b[1;32m     90\u001b[0m     \u001b[0mhypothetical_contribs\u001b[0m\u001b[0;34m=\u001b[0m\u001b[0;34m{\u001b[0m\u001b[0;34m'Nanog_profile_wn'\u001b[0m\u001b[0;34m:\u001b[0m \u001b[0mnanog_profile_wn_hypimp\u001b[0m\u001b[0;34m}\u001b[0m\u001b[0;34m,\u001b[0m\u001b[0;34m\u001b[0m\u001b[0;34m\u001b[0m\u001b[0m\n\u001b[0;32m---> 91\u001b[0;31m     one_hot=onehot_seq)\n\u001b[0m",
      "\u001b[0;32m/mnt/lab_data2/avanti/tfmodisco/modisco/tfmodisco_workflow/workflow.py\u001b[0m in \u001b[0;36m__call__\u001b[0;34m(self, task_names, contrib_scores, hypothetical_contribs, one_hot, null_per_pos_scores, per_position_contrib_scores, revcomp, other_tracks, just_return_seqlets, plot_save_dir)\u001b[0m\n\u001b[1;32m    360\u001b[0m                   other_comparison_track_names=[])\n\u001b[1;32m    361\u001b[0m                 seqlets_to_patterns_result = seqlets_to_patterns(\n\u001b[0;32m--> 362\u001b[0;31m                                               metacluster_seqlets)\n\u001b[0m\u001b[1;32m    363\u001b[0m             \u001b[0;32melse\u001b[0m\u001b[0;34m:\u001b[0m\u001b[0;34m\u001b[0m\u001b[0;34m\u001b[0m\u001b[0m\n\u001b[1;32m    364\u001b[0m                 \u001b[0mseqlets_to_patterns_result\u001b[0m \u001b[0;34m=\u001b[0m \u001b[0;32mNone\u001b[0m\u001b[0;34m\u001b[0m\u001b[0;34m\u001b[0m\u001b[0m\n",
      "\u001b[0;32m/mnt/lab_data2/avanti/tfmodisco/modisco/tfmodisco_workflow/seqlets_to_patterns.py\u001b[0m in \u001b[0;36m__call__\u001b[0;34m(self, seqlets)\u001b[0m\n\u001b[1;32m    717\u001b[0m                 \u001b[0mprint_memory_use\u001b[0m\u001b[0;34m(\u001b[0m\u001b[0;34m)\u001b[0m\u001b[0;34m\u001b[0m\u001b[0;34m\u001b[0m\u001b[0m\n\u001b[1;32m    718\u001b[0m                 \u001b[0msys\u001b[0m\u001b[0;34m.\u001b[0m\u001b[0mstdout\u001b[0m\u001b[0;34m.\u001b[0m\u001b[0mflush\u001b[0m\u001b[0;34m(\u001b[0m\u001b[0;34m)\u001b[0m\u001b[0;34m\u001b[0m\u001b[0;34m\u001b[0m\u001b[0m\n\u001b[0;32m--> 719\u001b[0;31m             \u001b[0mcoarse_affmat\u001b[0m \u001b[0;34m=\u001b[0m \u001b[0mself\u001b[0m\u001b[0;34m.\u001b[0m\u001b[0mcoarse_affmat_computer\u001b[0m\u001b[0;34m(\u001b[0m\u001b[0mseqlets\u001b[0m\u001b[0;34m)\u001b[0m\u001b[0;34m\u001b[0m\u001b[0;34m\u001b[0m\u001b[0m\n\u001b[0m\u001b[1;32m    720\u001b[0m             \u001b[0;31m#coarse_affmats.append(coarse_affmat)\u001b[0m\u001b[0;34m\u001b[0m\u001b[0;34m\u001b[0m\u001b[0;34m\u001b[0m\u001b[0m\n\u001b[1;32m    721\u001b[0m \u001b[0;34m\u001b[0m\u001b[0m\n",
      "\u001b[0;32m/mnt/lab_data2/avanti/tfmodisco/modisco/affinitymat/core.py\u001b[0m in \u001b[0;36m__call__\u001b[0;34m(self, seqlets)\u001b[0m\n\u001b[1;32m    276\u001b[0m \u001b[0;34m\u001b[0m\u001b[0m\n\u001b[1;32m    277\u001b[0m         affinity_mat_fwd = self.affinity_mat_from_1d(\n\u001b[0;32m--> 278\u001b[0;31m                             vecs1=embedding_fwd, vecs2=embedding_fwd)  \n\u001b[0m\u001b[1;32m    279\u001b[0m         affinity_mat_rev = (self.affinity_mat_from_1d(\n\u001b[1;32m    280\u001b[0m                              vecs1=embedding_fwd, vecs2=embedding_rev)\n",
      "\u001b[0;32m/mnt/lab_data2/avanti/tfmodisco/modisco/affinitymat/core.py\u001b[0m in \u001b[0;36m__call__\u001b[0;34m(self, vecs1, vecs2)\u001b[0m\n\u001b[1;32m    164\u001b[0m             \u001b[0mvecs1\u001b[0m \u001b[0;34m=\u001b[0m \u001b[0mmagnitude_norm_sparsemat\u001b[0m\u001b[0;34m(\u001b[0m\u001b[0msparse_mat\u001b[0m\u001b[0;34m=\u001b[0m\u001b[0mvecs1\u001b[0m\u001b[0;34m)\u001b[0m\u001b[0;34m\u001b[0m\u001b[0;34m\u001b[0m\u001b[0m\n\u001b[1;32m    165\u001b[0m             \u001b[0mvecs2\u001b[0m \u001b[0;34m=\u001b[0m \u001b[0mmagnitude_norm_sparsemat\u001b[0m\u001b[0;34m(\u001b[0m\u001b[0msparse_mat\u001b[0m\u001b[0;34m=\u001b[0m\u001b[0mvecs2\u001b[0m\u001b[0;34m)\u001b[0m\u001b[0;34m\u001b[0m\u001b[0;34m\u001b[0m\u001b[0m\n\u001b[0;32m--> 166\u001b[0;31m             \u001b[0mto_return\u001b[0m \u001b[0;34m=\u001b[0m \u001b[0mvecs1\u001b[0m\u001b[0;34m.\u001b[0m\u001b[0mdot\u001b[0m\u001b[0;34m(\u001b[0m\u001b[0mvecs2\u001b[0m\u001b[0;34m.\u001b[0m\u001b[0mtranspose\u001b[0m\u001b[0;34m(\u001b[0m\u001b[0;34m)\u001b[0m\u001b[0;34m)\u001b[0m\u001b[0;34m\u001b[0m\u001b[0;34m\u001b[0m\u001b[0m\n\u001b[0m\u001b[1;32m    167\u001b[0m             \u001b[0;31m#cast to dense for now\u001b[0m\u001b[0;34m\u001b[0m\u001b[0;34m\u001b[0m\u001b[0;34m\u001b[0m\u001b[0m\n\u001b[1;32m    168\u001b[0m             \u001b[0mto_return\u001b[0m \u001b[0;34m=\u001b[0m \u001b[0mnp\u001b[0m\u001b[0;34m.\u001b[0m\u001b[0marray\u001b[0m\u001b[0;34m(\u001b[0m\u001b[0mto_return\u001b[0m\u001b[0;34m.\u001b[0m\u001b[0mtodense\u001b[0m\u001b[0;34m(\u001b[0m\u001b[0;34m)\u001b[0m\u001b[0;34m)\u001b[0m\u001b[0;34m\u001b[0m\u001b[0;34m\u001b[0m\u001b[0m\n",
      "\u001b[0;32m~/anaconda3/lib/python3.7/site-packages/scipy/sparse/base.py\u001b[0m in \u001b[0;36mdot\u001b[0;34m(self, other)\u001b[0m\n\u001b[1;32m    357\u001b[0m \u001b[0;34m\u001b[0m\u001b[0m\n\u001b[1;32m    358\u001b[0m         \"\"\"\n\u001b[0;32m--> 359\u001b[0;31m         \u001b[0;32mreturn\u001b[0m \u001b[0mself\u001b[0m \u001b[0;34m*\u001b[0m \u001b[0mother\u001b[0m\u001b[0;34m\u001b[0m\u001b[0;34m\u001b[0m\u001b[0m\n\u001b[0m\u001b[1;32m    360\u001b[0m \u001b[0;34m\u001b[0m\u001b[0m\n\u001b[1;32m    361\u001b[0m     \u001b[0;32mdef\u001b[0m \u001b[0mpower\u001b[0m\u001b[0;34m(\u001b[0m\u001b[0mself\u001b[0m\u001b[0;34m,\u001b[0m \u001b[0mn\u001b[0m\u001b[0;34m,\u001b[0m \u001b[0mdtype\u001b[0m\u001b[0;34m=\u001b[0m\u001b[0;32mNone\u001b[0m\u001b[0;34m)\u001b[0m\u001b[0;34m:\u001b[0m\u001b[0;34m\u001b[0m\u001b[0;34m\u001b[0m\u001b[0m\n",
      "\u001b[0;32m~/anaconda3/lib/python3.7/site-packages/scipy/sparse/base.py\u001b[0m in \u001b[0;36m__mul__\u001b[0;34m(self, other)\u001b[0m\n\u001b[1;32m    478\u001b[0m             \u001b[0;32mif\u001b[0m \u001b[0mself\u001b[0m\u001b[0;34m.\u001b[0m\u001b[0mshape\u001b[0m\u001b[0;34m[\u001b[0m\u001b[0;36m1\u001b[0m\u001b[0;34m]\u001b[0m \u001b[0;34m!=\u001b[0m \u001b[0mother\u001b[0m\u001b[0;34m.\u001b[0m\u001b[0mshape\u001b[0m\u001b[0;34m[\u001b[0m\u001b[0;36m0\u001b[0m\u001b[0;34m]\u001b[0m\u001b[0;34m:\u001b[0m\u001b[0;34m\u001b[0m\u001b[0;34m\u001b[0m\u001b[0m\n\u001b[1;32m    479\u001b[0m                 \u001b[0;32mraise\u001b[0m \u001b[0mValueError\u001b[0m\u001b[0;34m(\u001b[0m\u001b[0;34m'dimension mismatch'\u001b[0m\u001b[0;34m)\u001b[0m\u001b[0;34m\u001b[0m\u001b[0;34m\u001b[0m\u001b[0m\n\u001b[0;32m--> 480\u001b[0;31m             \u001b[0;32mreturn\u001b[0m \u001b[0mself\u001b[0m\u001b[0;34m.\u001b[0m\u001b[0m_mul_sparse_matrix\u001b[0m\u001b[0;34m(\u001b[0m\u001b[0mother\u001b[0m\u001b[0;34m)\u001b[0m\u001b[0;34m\u001b[0m\u001b[0;34m\u001b[0m\u001b[0m\n\u001b[0m\u001b[1;32m    481\u001b[0m \u001b[0;34m\u001b[0m\u001b[0m\n\u001b[1;32m    482\u001b[0m         \u001b[0;31m# If it's a list or whatever, treat it like a matrix\u001b[0m\u001b[0;34m\u001b[0m\u001b[0;34m\u001b[0m\u001b[0;34m\u001b[0m\u001b[0m\n",
      "\u001b[0;32m~/anaconda3/lib/python3.7/site-packages/scipy/sparse/compressed.py\u001b[0m in \u001b[0;36m_mul_sparse_matrix\u001b[0;34m(self, other)\u001b[0m\n\u001b[1;32m    507\u001b[0m                  \u001b[0mnp\u001b[0m\u001b[0;34m.\u001b[0m\u001b[0masarray\u001b[0m\u001b[0;34m(\u001b[0m\u001b[0mself\u001b[0m\u001b[0;34m.\u001b[0m\u001b[0mindices\u001b[0m\u001b[0;34m,\u001b[0m \u001b[0mdtype\u001b[0m\u001b[0;34m=\u001b[0m\u001b[0midx_dtype\u001b[0m\u001b[0;34m)\u001b[0m\u001b[0;34m,\u001b[0m\u001b[0;34m\u001b[0m\u001b[0;34m\u001b[0m\u001b[0m\n\u001b[1;32m    508\u001b[0m                  \u001b[0mnp\u001b[0m\u001b[0;34m.\u001b[0m\u001b[0masarray\u001b[0m\u001b[0;34m(\u001b[0m\u001b[0mother\u001b[0m\u001b[0;34m.\u001b[0m\u001b[0mindptr\u001b[0m\u001b[0;34m,\u001b[0m \u001b[0mdtype\u001b[0m\u001b[0;34m=\u001b[0m\u001b[0midx_dtype\u001b[0m\u001b[0;34m)\u001b[0m\u001b[0;34m,\u001b[0m\u001b[0;34m\u001b[0m\u001b[0;34m\u001b[0m\u001b[0m\n\u001b[0;32m--> 509\u001b[0;31m                  np.asarray(other.indices, dtype=idx_dtype))\n\u001b[0m\u001b[1;32m    510\u001b[0m \u001b[0;34m\u001b[0m\u001b[0m\n\u001b[1;32m    511\u001b[0m         idx_dtype = get_index_dtype((self.indptr, self.indices,\n",
      "\u001b[0;31mRuntimeError\u001b[0m: nnz of the result is too large"
     ]
    }
   ],
   "source": [
    "#print modisco commit hash\n",
    "%cd /users/avanti/tfmodisco\n",
    "!git log -n 1\n",
    "%cd /users/avanti/tfmodisco_bio_experiments/bpnet/trial1\n",
    "\n",
    "from importlib import reload\n",
    "\n",
    "%matplotlib inline\n",
    "import h5py\n",
    "import numpy as np\n",
    "import modisco\n",
    "import modisco.seqlet_embedding.advanced_gapped_kmer\n",
    "reload(modisco.seqlet_embedding.advanced_gapped_kmer)\n",
    "import modisco.seqlet_embedding\n",
    "reload(modisco.seqlet_embedding)\n",
    "import modisco\n",
    "reload(modisco)\n",
    "import modisco.cluster.phenograph.core\n",
    "reload(modisco.cluster.phenograph.core)\n",
    "import modisco.cluster.phenograph.cluster\n",
    "reload(modisco.cluster.phenograph.cluster)\n",
    "import modisco.cluster.phenograph\n",
    "reload(modisco.cluster.phenograph)\n",
    "import modisco.cluster.core\n",
    "reload(modisco.cluster.core)\n",
    "import modisco.cluster\n",
    "reload(modisco.cluster)\n",
    "import modisco.affinitymat.core\n",
    "reload(modisco.affinitymat.core)\n",
    "import modisco.affinitymat.transformers\n",
    "reload(modisco.affinitymat.transformers)\n",
    "import modisco.tfmodisco_workflow.seqlets_to_patterns\n",
    "reload(modisco.tfmodisco_workflow.seqlets_to_patterns)\n",
    "import modisco.tfmodisco_workflow.workflow\n",
    "reload(modisco.tfmodisco_workflow.workflow)\n",
    "import modisco.nearest_neighbors\n",
    "reload(modisco.nearest_neighbors)\n",
    "import modisco.affinitymat\n",
    "reload(modisco.affinitymat)\n",
    "import modisco.aggregator\n",
    "reload(modisco.aggregator)\n",
    "import modisco.value_provider\n",
    "reload(modisco.value_provider)\n",
    "import modisco.core\n",
    "reload(modisco.core)\n",
    "import modisco.coordproducers\n",
    "reload(modisco.coordproducers)\n",
    "import modisco.metaclusterers\n",
    "reload(modisco.metaclusterers)\n",
    "import modisco.clusterinit.memeinit\n",
    "reload(modisco.clusterinit.memeinit)\n",
    "\n",
    "%matplotlib inline\n",
    "\n",
    "N_CORES = 10\n",
    "workflow = modisco.tfmodisco_workflow.workflow.TfModiscoWorkflow(\n",
    "    sliding_window_size=21,\n",
    "    flank_size=10,\n",
    "    target_seqlet_fdr=0.01,\n",
    "    min_passing_windows_frac=0.03,\n",
    "    max_passing_windows_frac=0.03,\n",
    "    min_metacluster_size=2000,\n",
    "    min_metacluster_size_frac=0.02,\n",
    "    max_seqlets_per_metacluster=50000,\n",
    "    seqlets_to_patterns_factory=\n",
    "      modisco.tfmodisco_workflow.seqlets_to_patterns.TfModiscoSeqletsToPatternsFactory(\n",
    "        #initclusterer_factory=modisco.clusterinit.memeinit.MemeInitClustererFactory(    \n",
    "        #                meme_command=\"/software/meme/5.0.1/bin/meme\",\n",
    "        #                base_outdir=\"meme_out\",            \n",
    "        #                num_seqlets_to_use=10000,\n",
    "        #                nmotifs=20, n_jobs=4),\n",
    "        use_louvain=False,\n",
    "        trim_to_window_size=30,\n",
    "        initial_flank_to_add=10,\n",
    "        \n",
    "        embedder_factory=modisco.seqlet_embedding\n",
    "                         .advanced_gapped_kmer\n",
    "                         .AdvancedGappedKmerEmbedderFactory(n_jobs=N_CORES),\n",
    "        #kmer_len=6,\n",
    "        #num_gaps=2,\n",
    "        #num_mismatches=0,        \n",
    "        n_cores=N_CORES,\n",
    "        final_min_cluster_size=60\n",
    "    )\n",
    ")\n",
    "\n",
    "results = workflow(\n",
    "    task_names=[\"Nanog_profile_wn\"],\n",
    "    contrib_scores={'Nanog_profile_wn': nanog_profile_wn_contribs},\n",
    "    hypothetical_contribs={'Nanog_profile_wn': nanog_profile_wn_hypimp},\n",
    "    one_hot=onehot_seq)"
   ]
  },
  {
   "cell_type": "code",
   "execution_count": null,
   "metadata": {},
   "outputs": [],
   "source": [
    "import h5py\n",
    "import modisco.util\n",
    "reload(modisco.util)\n",
    "import os\n",
    "\n",
    "file_path = \"commitbbbffc_agkm_default_results.hdf5\"\n",
    "if (os.path.exists(file_path)):\n",
    "    os.remove(file_path)\n",
    "grp = h5py.File(file_path, \"w\")\n",
    "results.save_hdf5(grp)\n",
    "grp.close()"
   ]
  },
  {
   "cell_type": "code",
   "execution_count": null,
   "metadata": {
    "scrolled": false
   },
   "outputs": [],
   "source": [
    "from modisco.visualization import viz_sequence\n",
    "%matplotlib inline\n",
    "\n",
    "hdf5_results = h5py.File(file_path,\"r\")\n",
    "\n",
    "metacluster_names = [\n",
    "    x.decode(\"utf-8\") for x in \n",
    "    list(hdf5_results[\"metaclustering_results\"]\n",
    "         [\"all_metacluster_names\"][:])]\n",
    "\n",
    "all_patterns = []\n",
    "background = np.array([0.27, 0.23, 0.23, 0.27])\n",
    "\n",
    "for metacluster_name in metacluster_names:\n",
    "    print(metacluster_name)\n",
    "    metacluster_grp = (hdf5_results[\"metacluster_idx_to_submetacluster_results\"]\n",
    "                                   [metacluster_name])\n",
    "    print(\"activity pattern:\",metacluster_grp[\"activity_pattern\"][:])\n",
    "    all_pattern_names = [x.decode(\"utf-8\") for x in \n",
    "                         list(metacluster_grp[\"seqlets_to_patterns_result\"]\n",
    "                                             [\"patterns\"][\"all_pattern_names\"][:])]\n",
    "    if (len(all_pattern_names)==0):\n",
    "        print(\"No motifs found for this activity pattern\")\n",
    "    for pattern_name in all_pattern_names:\n",
    "        print(metacluster_name, pattern_name)\n",
    "        all_patterns.append((metacluster_name, pattern_name))\n",
    "        pattern = metacluster_grp[\"seqlets_to_patterns_result\"][\"patterns\"][pattern_name]\n",
    "        print(\"total seqlets:\",len(pattern[\"seqlets_and_alnmts\"][\"seqlets\"]))\n",
    "        print(\"Task 0 hypothetical scores:\")\n",
    "        viz_sequence.plot_weights(pattern[\"Nanog_profile_wn_hypothetical_contribs\"][\"fwd\"])\n",
    "        print(\"Task 0 actual importance scores:\")\n",
    "        viz_sequence.plot_weights(pattern[\"Nanog_profile_wn_contrib_scores\"][\"fwd\"])\n",
    "        print(\"onehot, fwd and rev:\")\n",
    "        viz_sequence.plot_weights(np.array(pattern[\"sequence\"][\"fwd\"])) \n",
    "        viz_sequence.plot_weights(np.array(pattern[\"sequence\"][\"rev\"])) \n",
    "        \n",
    "hdf5_results.close()"
   ]
  },
  {
   "cell_type": "code",
   "execution_count": null,
   "metadata": {},
   "outputs": [],
   "source": []
  }
 ],
 "metadata": {
  "kernelspec": {
   "display_name": "Python 3",
   "language": "python",
   "name": "python3"
  },
  "language_info": {
   "codemirror_mode": {
    "name": "ipython",
    "version": 3
   },
   "file_extension": ".py",
   "mimetype": "text/x-python",
   "name": "python",
   "nbconvert_exporter": "python",
   "pygments_lexer": "ipython3",
   "version": "3.7.7"
  }
 },
 "nbformat": 4,
 "nbformat_minor": 2
}
