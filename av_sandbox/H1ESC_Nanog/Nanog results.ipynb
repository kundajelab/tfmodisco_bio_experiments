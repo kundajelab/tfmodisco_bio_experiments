{
 "cells": [
  {
   "cell_type": "code",
   "execution_count": 1,
   "metadata": {
    "collapsed": false
   },
   "outputs": [],
   "source": [
    "from __future__ import division, print_function\n",
    "from matplotlib import pyplot as plt\n",
    "%matplotlib inline\n",
    "import sys\n",
    "import os\n",
    "os.environ[\"CUDA_VISIBLE_DEVICES\"] = \"4\""
   ]
  },
  {
   "cell_type": "code",
   "execution_count": 2,
   "metadata": {
    "collapsed": false
   },
   "outputs": [],
   "source": [
    "import numpy as np\n",
    "\n",
    "def one_hot_encode_along_channel_axis(sequence):\n",
    "    #theano dim ordering, uses row axis for one-hot\n",
    "    to_return = np.zeros((len(sequence),4), dtype=np.int8)\n",
    "    seq_to_one_hot_fill_in_array(zeros_array=to_return,\n",
    "                                 sequence=sequence, one_hot_axis=1)\n",
    "    return to_return\n",
    "\n",
    "def seq_to_one_hot_fill_in_array(zeros_array, sequence, one_hot_axis):\n",
    "    assert one_hot_axis==0 or one_hot_axis==1\n",
    "    if (one_hot_axis==0):\n",
    "        assert zeros_array.shape[1] == len(sequence)\n",
    "    elif (one_hot_axis==1): \n",
    "        assert zeros_array.shape[0] == len(sequence)\n",
    "    #will mutate zeros_array\n",
    "    for (i,char) in enumerate(sequence):\n",
    "        if (char==\"A\" or char==\"a\"):\n",
    "            char_idx = 0\n",
    "        elif (char==\"C\" or char==\"c\"):\n",
    "            char_idx = 1\n",
    "        elif (char==\"G\" or char==\"g\"):\n",
    "            char_idx = 2\n",
    "        elif (char==\"T\" or char==\"t\"):\n",
    "            char_idx = 3\n",
    "        elif (char==\"N\" or char==\"n\"):\n",
    "            continue #leave that pos as all 0's\n",
    "        else:\n",
    "            raise RuntimeError(\"Unsupported character: \"+str(char))\n",
    "        if (one_hot_axis==0):\n",
    "            zeros_array[char_idx,i] = 1\n",
    "        elif (one_hot_axis==1):\n",
    "            zeros_array[i,char_idx] = 1\n",
    "\n",
    "orig_hyp_scores = np.load(\"hyp_scores_task_0.npy\")\n",
    "fasta_file = \"NANOG_summit_train_valid.fa\"\n",
    "fasta_fh = open(fasta_file)\n",
    "\n",
    "onehot_data = []\n",
    "for i,line in enumerate(fasta_fh):\n",
    "    if (i%2 == 1):\n",
    "        onehot_arr = one_hot_encode_along_channel_axis(line.rstrip())\n",
    "        onehot_data.append(onehot_arr)\n",
    "onehot_data = np.array(onehot_data)"
   ]
  },
  {
   "cell_type": "code",
   "execution_count": 3,
   "metadata": {
    "collapsed": false
   },
   "outputs": [],
   "source": [
    "contrib_scores = orig_hyp_scores*onehot_data"
   ]
  },
  {
   "cell_type": "code",
   "execution_count": 4,
   "metadata": {
    "collapsed": false
   },
   "outputs": [],
   "source": [
    "hyp_scores = orig_hyp_scores - np.mean(orig_hyp_scores,axis=-1)[:,:,None]"
   ]
  },
  {
   "cell_type": "code",
   "execution_count": 5,
   "metadata": {
    "collapsed": false
   },
   "outputs": [
    {
     "data": {
      "text/plain": [
       "(7564, 1000, 4)"
      ]
     },
     "execution_count": 5,
     "metadata": {},
     "output_type": "execute_result"
    }
   ],
   "source": [
    "hyp_scores.shape"
   ]
  },
  {
   "cell_type": "code",
   "execution_count": null,
   "metadata": {
    "collapsed": false
   },
   "outputs": [
    {
     "name": "stdout",
     "output_type": "stream",
     "text": [
      "On task task0\n",
      "Computing windowed sums\n",
      "Computing threshold\n",
      "peak(mu)= -0.04471575318649411\n",
      "Mu: -4.471575e-02 +/- 8.784976e-06\n",
      "Lablace_b: 0.3086302321866735 and 0.27666957027963957\n",
      "Thresholds: -4.867688527692109 and 1.2773894161097705\n",
      "#fdrs pass: 0 and 588853\n",
      "CDFs: 0.9999998365937429 and 0.9915926018718142\n",
      "Est. FDRs: 0.639041393303657 and 0.049999611129264855\n"
     ]
    },
    {
     "data": {
      "image/png": "[encoded data removed]",
      "text/plain": [
       "<matplotlib.figure.Figure at 0x7fa0da852e90>"
      ]
     },
     "metadata": {},
     "output_type": "display_data"
    },
    {
     "name": "stdout",
     "output_type": "stream",
     "text": [
      "Got 30181 coords\n",
      "After resolving overlaps, got 30181 seqlets\n",
      "Across all tasks, the weakest laplace threshold used was: 0.9915926018718142\n",
      "30181 identified in total\n",
      "1 activity patterns with support >= 100 out of 3 possible patterns\n",
      "Metacluster sizes:  [30180]\n",
      "Idx to activities:  {0: '1'}\n",
      "On metacluster 0\n",
      "Metacluster size 30180 limited to 1000\n",
      "Relevant tasks:  ('task0',)\n",
      "Relevant signs:  (1,)\n",
      "(Round 1) num seqlets: 1000\n",
      "(Round 1) Computing coarse affmat\n",
      "Beginning embedding computation\n",
      "Computing embeddings\n"
     ]
    }
   ],
   "source": [
    "from collections import OrderedDict\n",
    "%matplotlib inline\n",
    "import modisco\n",
    "reload(modisco)\n",
    "import modisco.backend\n",
    "reload(modisco.backend.theano_backend)\n",
    "reload(modisco.backend)\n",
    "import modisco.nearest_neighbors\n",
    "reload(modisco.nearest_neighbors)\n",
    "import modisco.affinitymat\n",
    "reload(modisco.affinitymat.core)\n",
    "reload(modisco.affinitymat.transformers)\n",
    "import modisco.tfmodisco_workflow.seqlets_to_patterns\n",
    "reload(modisco.tfmodisco_workflow.seqlets_to_patterns)\n",
    "import modisco.tfmodisco_workflow.workflow\n",
    "reload(modisco.tfmodisco_workflow.workflow)\n",
    "import modisco.aggregator\n",
    "reload(modisco.aggregator)\n",
    "import modisco.cluster\n",
    "reload(modisco.cluster.core)\n",
    "reload(modisco.cluster.phenograph.core)\n",
    "reload(modisco.cluster.phenograph.cluster)\n",
    "import modisco.core\n",
    "reload(modisco.core)\n",
    "import modisco.coordproducers\n",
    "reload(modisco.coordproducers)\n",
    "import modisco.metaclusterers\n",
    "reload(modisco.metaclusterers)\n",
    "\n",
    "task_to_scores = OrderedDict([('task0', contrib_scores)])\n",
    "task_to_hyp_scores = OrderedDict([('task0', hyp_scores)])\n",
    "\n",
    "task_names = [\"task0\"]\n",
    "\n",
    "tfmodisco_results = modisco.tfmodisco_workflow.workflow.TfModiscoWorkflow(\n",
    "                        max_seqlets_per_metacluster=1000)(\n",
    "                task_names=task_names,\n",
    "                contrib_scores=task_to_scores,\n",
    "                hypothetical_contribs=task_to_hyp_scores,\n",
    "                one_hot=onehot_data)"
   ]
  },
  {
   "cell_type": "code",
   "execution_count": null,
   "metadata": {
    "collapsed": false
   },
   "outputs": [],
   "source": [
    "modisco"
   ]
  },
  {
   "cell_type": "code",
   "execution_count": null,
   "metadata": {
    "collapsed": true
   },
   "outputs": [],
   "source": [
    "dir(modisc)"
   ]
  }
 ],
 "metadata": {
  "kernelspec": {
   "display_name": "Python 2",
   "language": "python",
   "name": "python2"
  },
  "language_info": {
   "codemirror_mode": {
    "name": "ipython",
    "version": 2
   },
   "file_extension": ".py",
   "mimetype": "text/x-python",
   "name": "python",
   "nbconvert_exporter": "python",
   "pygments_lexer": "ipython2",
   "version": "2.7.13"
  }
 },
 "nbformat": 4,
 "nbformat_minor": 0
}
