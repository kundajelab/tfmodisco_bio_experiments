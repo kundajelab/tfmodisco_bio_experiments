{
 "cells": [
  {
   "cell_type": "code",
   "execution_count": null,
   "metadata": {
    "collapsed": true
   },
   "outputs": [],
   "source": [
    "\n",
    "#locations, locations\n",
    "#Georgi's CISBP list grepped for SPI1:\n",
    "spi1_cisbp_hits = \"/home/ktian/kundajelab/tfnet/results/nandi/CIS-BP/data/SPI1.txt\"\n",
    "#1kb around SPI1 GM12878 summits:\n",
    "spi1_summits_and_flank_coords = \"/srv/scratch/ktian/kundajelab/tfmodisco_bio_experiments/results/nandi/SPI1/SPI1_GM12878_18_08_31/interpret.tsv\"\n",
    "spi1_summits_and_flank_fa = \"/srv/scratch/ktian/kundajelab/tfmodisco_bio_experiments/results/nandi/SPI1/SPI1_GM12878_18_08_31/interpret.fa\"\n",
    "hyp_scores = \"/home/ktian/kundajelab/tfnet/results/nandi/SPI1/SPI1_GM12878_refine_18_09_04/scores/hyp_scores_task_0.npy\"\n"
   ]
  }
 ],
 "metadata": {
  "kernelspec": {
   "display_name": "Python 2",
   "language": "python",
   "name": "python2"
  },
  "language_info": {
   "codemirror_mode": {
    "name": "ipython",
    "version": 2
   },
   "file_extension": ".py",
   "mimetype": "text/x-python",
   "name": "python",
   "nbconvert_exporter": "python",
   "pygments_lexer": "ipython2",
   "version": "2.7.13"
  }
 },
 "nbformat": 4,
 "nbformat_minor": 0
}
