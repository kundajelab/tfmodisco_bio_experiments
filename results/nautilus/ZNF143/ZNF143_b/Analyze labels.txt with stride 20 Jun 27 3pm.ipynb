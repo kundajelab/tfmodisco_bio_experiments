{
 "cells": [
  {
   "cell_type": "code",
   "execution_count": 11,
   "metadata": {
    "collapsed": false
   },
   "outputs": [
    {
     "name": "stdout",
     "output_type": "stream",
     "text": [
      "(3754572, 5)\n"
     ]
    }
   ],
   "source": [
    "import pandas as pd\n",
    "df = pd.read_csv(\"labels.txt\", sep='\\t', index_col=0, header=0)\n",
    "print(df.shape)\n"
   ]
  },
  {
   "cell_type": "code",
   "execution_count": 12,
   "metadata": {
    "collapsed": false
   },
   "outputs": [
    {
     "name": "stdout",
     "output_type": "stream",
     "text": [
      "                         ENCSR000DZL  ENCSR936XTK  ENCSR000EBW  ENCSR000ECO  \\\n",
      "id                                                                            \n",
      "chr15:59062896-59063896            1           -1            1            1   \n",
      "chr8:52060000-52061000             0            0            0            0   \n",
      "chrX:29419000-29420000             0            0            0            0   \n",
      "chr15:44521000-44522000            0            0            0            0   \n",
      "chr21:22437000-22438000            0            0            0            0   \n",
      "\n",
      "                         ENCSR000EGP  \n",
      "id                                    \n",
      "chr15:59062896-59063896           -1  \n",
      "chr8:52060000-52061000             0  \n",
      "chrX:29419000-29420000             0  \n",
      "chr15:44521000-44522000            0  \n",
      "chr21:22437000-22438000            0  \n"
     ]
    }
   ],
   "source": [
    "print(df.head(5))\n"
   ]
  },
  {
   "cell_type": "code",
   "execution_count": 13,
   "metadata": {
    "collapsed": false
   },
   "outputs": [
    {
     "data": {
      "text/plain": [
       "ENCSR000DZL    158747\n",
       "ENCSR936XTK    171507\n",
       "ENCSR000EBW      7604\n",
       "ENCSR000ECO     75056\n",
       "ENCSR000EGP    -45575\n",
       "dtype: int64"
      ]
     },
     "execution_count": 13,
     "metadata": {},
     "output_type": "execute_result"
    }
   ],
   "source": [
    "df.sum(axis=0)\n"
   ]
  },
  {
   "cell_type": "code",
   "execution_count": 18,
   "metadata": {
    "collapsed": false
   },
   "outputs": [
    {
     "data": {
      "text/plain": [
       "Task         count\n",
       "ENCSR000DZL  -1        202613\n",
       "              0       3190599\n",
       "              1        361360\n",
       "ENCSR000EBW  -1        311712\n",
       "              0       3123544\n",
       "              1        319316\n",
       "ENCSR000ECO   0       3679516\n",
       "              1         75056\n",
       "ENCSR000EGP  -1        326018\n",
       "              0       3148111\n",
       "              1        280443\n",
       "ENCSR936XTK  -1        240813\n",
       "              0       3101439\n",
       "              1        412320\n",
       "Name: count, dtype: int64"
      ]
     },
     "execution_count": 18,
     "metadata": {},
     "output_type": "execute_result"
    }
   ],
   "source": [
    "melted_data = pd.melt(df, value_vars=['ENCSR000DZL', 'ENCSR936XTK','ENCSR000EBW','ENCSR000ECO','ENCSR000EGP'], \n",
    "                      var_name='Task', value_name='count')\n",
    "melted_data.groupby(by=['Task', 'count'])['count'].count()\n"
   ]
  },
  {
   "cell_type": "code",
   "execution_count": null,
   "metadata": {
    "collapsed": true
   },
   "outputs": [],
   "source": []
  }
 ],
 "metadata": {
  "kernelspec": {
   "display_name": "gpu27a",
   "language": "python",
   "name": "gpu27a"
  },
  "language_info": {
   "codemirror_mode": {
    "name": "ipython",
    "version": 2
   },
   "file_extension": ".py",
   "mimetype": "text/x-python",
   "name": "python",
   "nbconvert_exporter": "python",
   "pygments_lexer": "ipython2",
   "version": "2.7.13"
  }
 },
 "nbformat": 4,
 "nbformat_minor": 2
}
