{
 "cells": [
  {
   "cell_type": "code",
   "execution_count": 3,
   "metadata": {
    "collapsed": false
   },
   "outputs": [
    {
     "name": "stdout",
     "output_type": "stream",
     "text": [
      "(3535075, 3)\n"
     ]
    }
   ],
   "source": [
    "import pandas as pd\n",
    "df = pd.read_csv(\"labels.txt\", sep='\\t', index_col=0, header=0)\n",
    "print(df.shape)\n"
   ]
  },
  {
   "cell_type": "code",
   "execution_count": 4,
   "metadata": {
    "collapsed": false
   },
   "outputs": [
    {
     "name": "stdout",
     "output_type": "stream",
     "text": [
      "                          ENCSR000AKB  ENCSR000BJE  ENCSR000DZL\n",
      "id                                                             \n",
      "chr2:127271000-127272000            0            0            0\n",
      "chr5:75066000-75067000              0            0            0\n",
      "chrX:20477000-20478000              0            0            0\n",
      "chr1:232068000-232069000            0            0            0\n",
      "chr9:31725000-31726000              0            0            0\n"
     ]
    }
   ],
   "source": [
    "print(df.head(5))\n"
   ]
  },
  {
   "cell_type": "code",
   "execution_count": 5,
   "metadata": {
    "collapsed": false
   },
   "outputs": [
    {
     "data": {
      "text/plain": [
       "ENCSR000AKB    200213\n",
       "ENCSR000BJE   -201665\n",
       "ENCSR000DZL    132465\n",
       "dtype: int64"
      ]
     },
     "execution_count": 5,
     "metadata": {},
     "output_type": "execute_result"
    }
   ],
   "source": [
    "df.sum(axis=0)\n"
   ]
  },
  {
   "cell_type": "code",
   "execution_count": 7,
   "metadata": {
    "collapsed": false
   },
   "outputs": [
    {
     "data": {
      "text/plain": [
       "Task         count\n",
       "ENCSR000AKB  -1        157857\n",
       "              0       3019148\n",
       "              1        358070\n",
       "ENCSR000BJE  -1        230535\n",
       "              0       3275670\n",
       "              1         28870\n",
       "ENCSR000DZL  -1        164586\n",
       "              0       3073438\n",
       "              1        297051\n",
       "Name: count, dtype: int64"
      ]
     },
     "execution_count": 7,
     "metadata": {},
     "output_type": "execute_result"
    }
   ],
   "source": [
    "melted_data = pd.melt(df, value_vars=['ENCSR000AKB', 'ENCSR000BJE','ENCSR000DZL'], \n",
    "                      var_name='Task', value_name='count')\n",
    "melted_data.groupby(by=['Task', 'count'])['count'].count()\n"
   ]
  },
  {
   "cell_type": "code",
   "execution_count": null,
   "metadata": {
    "collapsed": true
   },
   "outputs": [],
   "source": []
  }
 ],
 "metadata": {
  "kernelspec": {
   "display_name": "gpu27a",
   "language": "python",
   "name": "gpu27a"
  }
 },
 "nbformat": 4,
 "nbformat_minor": 2
}
