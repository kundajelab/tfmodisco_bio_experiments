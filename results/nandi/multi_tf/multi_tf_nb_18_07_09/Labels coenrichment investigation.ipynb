{
 "cells": [
  {
   "cell_type": "code",
   "execution_count": 12,
   "metadata": {},
   "outputs": [],
   "source": [
    "from __future__ import division, print_function"
   ]
  },
  {
   "cell_type": "code",
   "execution_count": 13,
   "metadata": {},
   "outputs": [
    {
     "name": "stdout",
     "output_type": "stream",
     "text": [
      "cmd.sh\t\t\t\t\t labels.txt.gz\r\n",
      "inputs.fa\t\t\t\t labels.txt.local.gz\r\n",
      "label.intervals_file.tsv\t\t logs\r\n",
      "label.intervals_file.tsv.gz\t\t prepare_data.ipynb\r\n",
      "label_regions.ipynb\t\t\t prepare_data.py\r\n",
      "label_regions.py\t\t\t prepare_data_tf.py\r\n",
      "Labels coenrichment investigation.ipynb  splits\r\n",
      "labels_pre_sorted.txt\t\t\t test_label\r\n",
      "labels_pre.txt\t\t\t\t tflabel.intervals_file.tsv\r\n",
      "labels_sorted.txt\t\t\t _tmp_IjCY3O\r\n",
      "labels.txt\r\n"
     ]
    }
   ],
   "source": [
    "!ls"
   ]
  },
  {
   "cell_type": "code",
   "execution_count": 14,
   "metadata": {},
   "outputs": [],
   "source": [
    "import gzip\n",
    "\n",
    "f = gzip.open(\"labels.txt.gz\", \"rb\")\n",
    "\n",
    "labels = []\n",
    "for i,line in enumerate(f):\n",
    "    if (i > 0):\n",
    "        line = line.rstrip()\n",
    "        the_id, ctcf, six5, znf143 = line.split(\"\\t\")\n",
    "        labels.append([int(ctcf), int(six5), int(znf143)])\n"
   ]
  },
  {
   "cell_type": "code",
   "execution_count": 15,
   "metadata": {},
   "outputs": [],
   "source": [
    "import numpy as np\n",
    "labels = np.array(labels)"
   ]
  },
  {
   "cell_type": "code",
   "execution_count": 16,
   "metadata": {},
   "outputs": [
    {
     "name": "stdout",
     "output_type": "stream",
     "text": [
      "3535075\n",
      "[358070  28870 297051]\n"
     ]
    }
   ],
   "source": [
    "print(len(labels))\n",
    "print(np.sum(labels*(labels > -1),axis=0))"
   ]
  },
  {
   "cell_type": "code",
   "execution_count": 17,
   "metadata": {},
   "outputs": [
    {
     "name": "stdout",
     "output_type": "stream",
     "text": [
      "(3.3277658403378623, 0.0)\n",
      "(0.09825732060230231, 0.0)\n"
     ]
    }
   ],
   "source": [
    "ctcf_pos_mask = (labels[:,0]==1)\n",
    "ctcf_neg_mask = (labels[:,0]==0)\n",
    "six5_pos_mask = (labels[:,1]==1)\n",
    "six5_neg_mask = (labels[:,1]==0)\n",
    "znf143_pos_mask = (labels[:,2]==1)\n",
    "znf143_neg_mask = (labels[:,2]==0)\n",
    "\n",
    "#question 1: what is the coenrichment of CTCF with six5\n",
    "#contingency table should look like:\n",
    "\n",
    "# [ pos_for_ctcf_and_six5, pos_for_ctcf_but_not_six5]\n",
    "# [ neg_for_ctcf_pos_for_six5, neg_for_ctcf_and_six5]\n",
    "\n",
    "from scipy.stats import fisher_exact\n",
    "print(fisher_exact(table=[\n",
    "    [np.sum(ctcf_pos_mask*six5_pos_mask), np.sum(ctcf_pos_mask*six5_neg_mask)],\n",
    "    [np.sum(ctcf_neg_mask*six5_pos_mask), np.sum(ctcf_neg_mask*six5_neg_mask)]\n",
    "]))\n",
    "\n",
    "#question 2: What is the coenrichment of CTCF with six5 in the presence of znf143\n",
    "from scipy.stats import fisher_exact\n",
    "print(fisher_exact(table=[\n",
    "    [np.sum(ctcf_pos_mask*six5_pos_mask*znf143_pos_mask), np.sum(ctcf_pos_mask*six5_neg_mask*znf143_pos_mask)],\n",
    "    [np.sum(ctcf_neg_mask*six5_pos_mask*znf143_pos_mask), np.sum(ctcf_neg_mask*six5_neg_mask*znf143_pos_mask)]\n",
    "]))\n"
   ]
  },
  {
   "cell_type": "code",
   "execution_count": 18,
   "metadata": {},
   "outputs": [
    {
     "data": {
      "text/plain": [
       "3.3277658403378623"
      ]
     },
     "execution_count": 18,
     "metadata": {},
     "output_type": "execute_result"
    }
   ],
   "source": [
    "(np.sum(ctcf_pos_mask*six5_pos_mask)/np.sum(ctcf_pos_mask*six5_neg_mask))/(\n",
    "    np.sum(ctcf_neg_mask*six5_pos_mask)/np.sum(ctcf_neg_mask*six5_neg_mask))"
   ]
  },
  {
   "cell_type": "code",
   "execution_count": null,
   "metadata": {},
   "outputs": [],
   "source": []
  },
  {
   "cell_type": "code",
   "execution_count": null,
   "metadata": {},
   "outputs": [],
   "source": []
  }
 ],
 "metadata": {
  "kernelspec": {
   "display_name": "Python 2",
   "language": "python",
   "name": "python2"
  },
  "language_info": {
   "codemirror_mode": {
    "name": "ipython",
    "version": 2
   },
   "file_extension": ".py",
   "mimetype": "text/x-python",
   "name": "python",
   "nbconvert_exporter": "python",
   "pygments_lexer": "ipython2",
   "version": "2.7.15"
  }
 },
 "nbformat": 4,
 "nbformat_minor": 2
}
