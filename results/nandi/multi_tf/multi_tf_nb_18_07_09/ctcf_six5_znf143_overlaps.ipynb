{
 "cells": [
  {
   "cell_type": "markdown",
   "metadata": {},
   "source": [
    "# CTCF / SIX5 / ZNF143 Data Analysis"
   ]
  },
  {
   "cell_type": "markdown",
   "metadata": {},
   "source": [
    "Here’s an idea: we can try to replicate the test using the raw number of bases that overlap between the files. That would be as close to the original data as we can get, and it’s something Anshul would have the time to replicate. Try setting up a single notebook that does this analysis:\n",
    "\n",
    "The total number of bases on the assembled human chromosomes is 3095677412 - you get this by summing up columns chr1-chr21 here: http://hgdownload.cse.ucsc.edu/goldenPath/hg19/bigZips/hg19.chrom.sizes. We can let 3095677412 represent the size of our “universe”. Ignore ambiguous regions for now - it would be surprising if they altered the overall trend.\n",
    "(1) The total number of bases covered by idr optimal CTCF peaks are the “special” set - count those up and print out the number in a cell. Good to put the CTCF peaks through `bedtools merge -i ctcf_file.bed > merged_ctcf_file.bed` before you do this to avoid double-counting bases in overlapping regions.\n",
    "(2) The total number of bases covered by idr optimal SIX5 peaks are the “picked” set - count those up and print out the number in a cell. Again, good to put the SIX5 peaks through `bedtools merge` to avoid double-counting bases.\n",
    "(3) The total number of bases in the intersection of CTCF and SIX5 peaks are the “special, picked” set. Find those bases by counting up the number of bases in the file produced by `bedtools intersect -a ctcf_file.bed -b six5_file.bed | bedtools merge > merged_ctcf_six5_intersection.bed`\n",
    "(4) Print out the ratio (special,picked)/(special,not_picked) / (not_special,picked)/(not_special,not_picked). Also print out the p-value using the fisher’s exact test.\n",
    "(5) Repeat the analysis above, but conditioning on bases that overlap the ZNF143 peak set.\n",
    "\n",
    "In the meantime, I will let Anshul know the results of this analysis to get his initial thoughts."
   ]
  },
  {
   "cell_type": "code",
   "execution_count": 1,
   "metadata": {},
   "outputs": [
    {
     "data": {
      "text/plain": [
       "0"
      ]
     },
     "execution_count": 1,
     "metadata": {},
     "output_type": "execute_result"
    }
   ],
   "source": [
    "universe = 3095677412\n",
    "data_dir = \"/home/ktian/kundajelab/tfnet/ENCODE_data/\"\n",
    "#data_dir = \"/home/ktian/oak/stanford/groups/akundaje/marinovg/TF-models/2018-06-15-ENCODE-TF-ChIP-seq-for-multitask-models/\"\n",
    "dnase_dir = \"/mnt/data/integrative/dnase/ENCSR845CFB.Primary_hematopoietic_stem_cells.UW_Stam.DNase-seq/\" + \\\n",
    "            \"out_50m/peak/idr/pseudo_reps/rep1/\"\n",
    "\n",
    "ctcf_file   = data_dir + \"GM12878-CTCF-human-ENCSR000AKB-optimal_idr.narrowPeak.gz\"\n",
    "six5_file   = data_dir + \"GM12878-SIX5-human-ENCSR000BJE-optimal_idr.narrowPeak.gz\"\n",
    "znf143_file = data_dir + \"GM12878-ZNF143-human-ENCSR000DZL-optimal_idr.narrowPeak.gz\"\n",
    "dnase_file  = dnase_dir + \\\n",
    "            \"ENCSR845CFB.Primary_hematopoietic_stem_cells.UW_Stam.DNase-seq_rep1-pr.IDR0.1.filt.narrowPeak.gz\"\n",
    "\n",
    "import os\n",
    "\n",
    "os.system(\"ls -l \" + ctcf_file)\n",
    "\n",
    "os.system(\"mkdir -p _tmp_\")\n",
    "merged_ctcf   = \"_tmp_/ctcf.bed\"\n",
    "merged_six5   = \"_tmp_/six5.bed\"\n",
    "merged_znf143 = \"_tmp_/znf143.bed\"\n",
    "merged_dnase  = \"_tmp_/dnase.bed\"\n",
    "\n",
    "os.system(\"gunzip -c \" + ctcf_file   + \" | bedtools sort | bedtools merge > \" + merged_ctcf)\n",
    "os.system(\"gunzip -c \" + six5_file   + \" | bedtools sort | bedtools merge > \" + merged_six5)\n",
    "os.system(\"gunzip -c \" + znf143_file + \" | bedtools sort | bedtools merge > \" + merged_znf143)\n",
    "os.system(\"gunzip -c \" + dnase_file  + \" | bedtools sort | bedtools merge > \" + merged_dnase)"
   ]
  },
  {
   "cell_type": "code",
   "execution_count": 10,
   "metadata": {},
   "outputs": [
    {
     "name": "stdout",
     "output_type": "stream",
     "text": [
      "ctcf.bed\t      ctcf_znf143.bed\t     six5_znf143.bed\n",
      "ctcf_dnase.bed\t      ctcf_znf143_dnase.bed  six5_znf143_dnase.bed\n",
      "ctcf_six5.bed\t      dnase.bed\t\t     znf143.bed\n",
      "ctcf_six5_dnase.bed   six5.bed\t\t     znf143_ctcf.bed\n",
      "ctcf_six5_znf143.bed  six5_dnase.bed\t     znf143_dnase.bed\n",
      "chr1\t115626\t115840\n",
      "chr1\t713880\t714405\n",
      "chr1\t762639\t763159\n",
      "chr1\t773680\t774027\n",
      "chr1\t778139\t778531\n",
      "chr1\t793421\t793620\n",
      "chr1\t805107\t805431\n",
      "chr1\t839811\t840278\n",
      "chr1\t842177\t842434\n",
      "chr1\t846590\t846941\n",
      "cat: write error: Broken pipe\n"
     ]
    }
   ],
   "source": [
    "!ls ./_tmp_\n",
    "!cat ./_tmp_/dnase.bed | head -10"
   ]
  },
  {
   "cell_type": "code",
   "execution_count": 3,
   "metadata": {
    "scrolled": false
   },
   "outputs": [],
   "source": [
    "import pandas as pd\n",
    "def sum_up_intervals_len(file, desc):\n",
    "    df = pd.read_csv(file, sep='\\t', index_col=None, header=None)\n",
    "    #experiments = ['ENCSR000AKB', 'ENCSR000BJE','ENCSR000DZL']\n",
    "    #df.columns = ['chr', 'start', 'end']\n",
    "    \n",
    "    df_new = df.iloc[:,1:].astype('int') # select all rows and all columns except the first one (IDs), convert to int\n",
    "\n",
    "    df_len = df_new.iloc[:,1] - df_new.iloc[:,0] # end - start\n",
    "    \n",
    "    total_len = df_len.sum()\n",
    "    print(\"%18s: #bp in merged file is %10d\" % (desc, total_len))\n",
    "    return total_len"
   ]
  },
  {
   "cell_type": "code",
   "execution_count": 4,
   "metadata": {},
   "outputs": [
    {
     "name": "stdout",
     "output_type": "stream",
     "text": [
      "              ctcf: #bp in merged file is   12407139\n",
      "              six5: #bp in merged file is    1180900\n",
      "            znf143: #bp in merged file is   10903313\n",
      "             dnase: #bp in merged file is   41137677\n"
     ]
    }
   ],
   "source": [
    "len_ctcf   = sum_up_intervals_len(merged_ctcf, \"ctcf\")\n",
    "len_six5   = sum_up_intervals_len(merged_six5, \"six5\")\n",
    "len_znf143 = sum_up_intervals_len(merged_znf143, \"znf143\")\n",
    "len_dnase  = sum_up_intervals_len(merged_dnase, \"dnase\")"
   ]
  },
  {
   "cell_type": "code",
   "execution_count": 5,
   "metadata": {},
   "outputs": [],
   "source": [
    "ctcf_six5_bed   = \"_tmp_/ctcf_six5.bed\"\n",
    "six5_znf143_bed = \"_tmp_/six5_znf143.bed\"\n",
    "ctcf_znf143_bed = \"_tmp_/ctcf_znf143.bed\"\n",
    "znf143_ctcf_bed = \"_tmp_/znf143_ctcf.bed\"\n",
    "ctcf_siz5_znf143_bed = \"_tmp_/ctcf_siz5_znf143.bed\""
   ]
  },
  {
   "cell_type": "code",
   "execution_count": 11,
   "metadata": {
    "scrolled": true
   },
   "outputs": [
    {
     "name": "stdout",
     "output_type": "stream",
     "text": [
      "         ctcf_six5: #bp in merged file is     130386\n",
      "       six5_znf143: #bp in merged file is     729608\n",
      "       znf143_ctcf: #bp in merged file is    5765970\n",
      "       ctcf_znf143: #bp in merged file is    5765970\n",
      "  ctcf_six5_znf143: #bp in merged file is     105690\n"
     ]
    }
   ],
   "source": [
    "def intersect(tf_a, tf_b):\n",
    "    tf_a_bed = \"_tmp_/\" + tf_a + \".bed\"\n",
    "    tf_b_bed = \"_tmp_/\" + tf_b + \".bed\"\n",
    "    tf_ab_intersect = \"_tmp_/\" + tf_a + \"_\" + tf_b + \".bed\"\n",
    "    \n",
    "    cmd = \"bedtools intersect -sorted -a \" + tf_a_bed + \" -b \" + tf_b_bed + \" | bedtools merge > \" + tf_ab_intersect\n",
    "    os.system(cmd)\n",
    "    \n",
    "    len_intersect = sum_up_intervals_len(tf_ab_intersect, tf_a + \"_\" + tf_b)\n",
    "    return len_intersect\n",
    "\n",
    "len_ctcf_six5   = intersect(\"ctcf\", \"six5\")\n",
    "len_six5_znf143 = intersect(\"six5\", \"znf143\")\n",
    "len_znf143_ctcf = intersect(\"znf143\", \"ctcf\")\n",
    "len_ctcf_znf143 = intersect(\"ctcf\",\"znf143\")\n",
    "\n",
    "len_ctcf_six5_znf143 = intersect(\"ctcf_six5\",\"znf143\")\n",
    "len_all = len_ctcf_six5_znf143"
   ]
  },
  {
   "cell_type": "markdown",
   "metadata": {},
   "source": [
    "### Fisher's Exact Test -- presence of ZNF143\n",
    "(4) Print out the ratio (special,picked)/(special,not_picked) / (not_special,picked)/(not_special,not_picked). Also print out the p-value using the fisher’s exact test.\n",
    "(5) Repeat the analysis above, but conditioning on bases that overlap the ZNF143 peak set."
   ]
  },
  {
   "cell_type": "code",
   "execution_count": 7,
   "metadata": {},
   "outputs": [
    {
     "name": "stdout",
     "output_type": "stream",
     "text": [
      "(31.160843103361707, 0.0)\n",
      "(0.13507491336845634, 0.0)\n"
     ]
    }
   ],
   "source": [
    "#question 1: what is the coenrichment of CTCF with six5 (special = CTCF, picked = six5)\n",
    "#contingency table should look like:\n",
    "\n",
    "# [ pos_for_ctcf_and_six5, pos_for_ctcf_but_not_six5]\n",
    "# [ neg_for_ctcf_pos_for_six5, neg_for_ctcf_and_six5]\n",
    "\n",
    "from scipy.stats import fisher_exact\n",
    "print(fisher_exact(table=[\n",
    "    [len_ctcf_six5, len_ctcf - len_ctcf_six5],\n",
    "    [len_six5 - len_ctcf_six5, universe - len_ctcf - len_six5 + len_ctcf_six5]\n",
    "])) # PIE\n",
    "\n",
    "#question 2: What is the coenrichment of CTCF with six5 in the presence of znf143\n",
    "print(fisher_exact(table=[\n",
    "    [len_all, len_ctcf_znf143 - len_all],\n",
    "    [len_six5_znf143 - len_all, len_znf143 - len_ctcf_znf143 - len_six5_znf143 + len_all]\n",
    "])) # znf \"universe\""
   ]
  },
  {
   "cell_type": "markdown",
   "metadata": {},
   "source": [
    "### Fisher's Exact Test conditioned on DHS peaks (accessible regions)"
   ]
  },
  {
   "cell_type": "code",
   "execution_count": 8,
   "metadata": {},
   "outputs": [
    {
     "name": "stdout",
     "output_type": "stream",
     "text": [
      "        ctcf_dnase: #bp in merged file is    7226162\n",
      "        six5_dnase: #bp in merged file is    1006727\n",
      "      znf143_dnase: #bp in merged file is    7860007\n",
      "   ctcf_six5_dnase: #bp in merged file is     126364\n",
      " ctcf_znf143_dnase: #bp in merged file is    4739905\n",
      " six5_znf143_dnase: #bp in merged file is     654317\n"
     ]
    }
   ],
   "source": [
    "len_ctcf   = intersect(\"ctcf\",\"dnase\")\n",
    "len_six5   = intersect(\"six5\",\"dnase\")\n",
    "len_znf143 = intersect(\"znf143\",\"dnase\")\n",
    "len_ctcf_six5   = intersect(\"ctcf_six5\",\"dnase\")\n",
    "len_ctcf_znf143 = intersect(\"ctcf_znf143\",\"dnase\")\n",
    "len_six5_znf143 = intersect(\"six5_znf143\",\"dnase\")"
   ]
  },
  {
   "cell_type": "code",
   "execution_count": 9,
   "metadata": {},
   "outputs": [
    {
     "name": "stdout",
     "output_type": "stream",
     "text": [
      "(0.6677890770954302, 0.0)\n",
      "(0.10689634318360579, 0.0)\n"
     ]
    }
   ],
   "source": [
    "#question 3: condition on DHS peaks\n",
    "# [ pos_for_ctcf_and_six5_DHS, pos_for_ctcf_but_not_six5_DHS]\n",
    "# [ neg_for_ctcf_pos_for_six5_DHS, neg_for_ctcf_and_six5_DHS]\n",
    "\n",
    "print(fisher_exact(table=[\n",
    "    [len_ctcf_six5, len_ctcf - len_ctcf_six5],\n",
    "    [len_six5 - len_ctcf_six5, len_dnase - len_ctcf - len_six5 + len_ctcf_six5]\n",
    "]))\n",
    "\n",
    "#question 2: What is the coenrichment of CTCF with six5 in the presence of znf143\n",
    "print(fisher_exact(table=[\n",
    "    [len_all, len_ctcf_znf143 - len_all],\n",
    "    [len_six5_znf143 - len_all, len_znf143 - len_ctcf_znf143 - len_six5_znf143 + len_all]\n",
    "]))"
   ]
  }
 ],
 "metadata": {
  "kernelspec": {
   "display_name": "tfenv",
   "language": "python",
   "name": "tfenv"
  },
  "language_info": {
   "codemirror_mode": {
    "name": "ipython",
    "version": 2
   },
   "file_extension": ".py",
   "mimetype": "text/x-python",
   "name": "python",
   "nbconvert_exporter": "python",
   "pygments_lexer": "ipython2",
   "version": "2.7.15"
  }
 },
 "nbformat": 4,
 "nbformat_minor": 2
}
