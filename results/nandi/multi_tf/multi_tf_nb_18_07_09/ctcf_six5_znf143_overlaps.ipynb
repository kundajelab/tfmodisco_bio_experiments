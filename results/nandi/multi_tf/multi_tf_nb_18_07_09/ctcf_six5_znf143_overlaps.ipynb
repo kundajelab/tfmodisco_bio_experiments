{
 "cells": [
  {
   "cell_type": "markdown",
   "metadata": {},
   "source": [
    "# CTCF / SIX5 / ZNF143 Data Analysis"
   ]
  },
  {
   "cell_type": "markdown",
   "metadata": {},
   "source": [
    "Here’s an idea: we can try to replicate the test using the raw number of bases that overlap between the files. That would be as close to the original data as we can get, and it’s something Anshul would have the time to replicate. Try setting up a single notebook that does this analysis:\n",
    "\n",
    "The total number of bases on the assembled human chromosomes is 3095677412 - you get this by summing up columns chr1-chr21 here: http://hgdownload.cse.ucsc.edu/goldenPath/hg19/bigZips/hg19.chrom.sizes. We can let 3095677412 represent the size of our “universe”. Ignore ambiguous regions for now - it would be surprising if they altered the overall trend.\n",
    "(1) The total number of bases covered by idr optimal CTCF peaks are the “special” set - count those up and print out the number in a cell. Good to put the CTCF peaks through `bedtools merge -i ctcf_file.bed > merged_ctcf_file.bed` before you do this to avoid double-counting bases in overlapping regions.\n",
    "(2) The total number of bases covered by idr optimal SIX5 peaks are the “picked” set - count those up and print out the number in a cell. Again, good to put the SIX5 peaks through `bedtools merge` to avoid double-counting bases.\n",
    "(3) The total number of bases in the intersection of CTCF and SIX5 peaks are the “special, picked” set. Find those bases by counting up the number of bases in the file produced by `bedtools intersect -a ctcf_file.bed -b six5_file.bed | bedtools merge > merged_ctcf_six5_intersection.bed`\n",
    "(4) Print out the ratio (special,picked)/(special,not_picked) / (not_special,picked)/(not_special,not_picked). Also print out the p-value using the fisher’s exact test.\n",
    "(5) Repeat the analysis above, but conditioning on bases that overlap the ZNF143 peak set.\n",
    "\n",
    "In the meantime, I will let Anshul know the results of this analysis to get his initial thoughts."
   ]
  },
  {
   "cell_type": "code",
   "execution_count": 1,
   "metadata": {},
   "outputs": [
    {
     "name": "stdout",
     "output_type": "stream",
     "text": [
      "gunzip -c /home/ktian/kundajelab/tfnet/ENCODE_data/GM12878-CTCF-human-ENCSR000AKB-optimal_idr.narrowPeak.gz | bedtools sort | bedtools merge > _tmp_/merged_ctcf_file.bed\n"
     ]
    },
    {
     "data": {
      "text/plain": [
       "0"
      ]
     },
     "execution_count": 1,
     "metadata": {},
     "output_type": "execute_result"
    }
   ],
   "source": [
    "universe = 3095677412\n",
    "data_dir = \"/home/ktian/kundajelab/tfnet/ENCODE_data/\"\n",
    "#data_dir = \"/home/ktian/oak/stanford/groups/akundaje/marinovg/TF-models/2018-06-15-ENCODE-TF-ChIP-seq-for-multitask-models/\"\n",
    "\n",
    "ctcf_file   = data_dir + \"GM12878-CTCF-human-ENCSR000AKB-optimal_idr.narrowPeak.gz\"\n",
    "six5_file   = data_dir + \"GM12878-SIX5-human-ENCSR000BJE-optimal_idr.narrowPeak.gz\"\n",
    "znf143_file = data_dir + \"GM12878-ZNF143-human-ENCSR000DZL-optimal_idr.narrowPeak.gz\"\n",
    "\n",
    "import os\n",
    "\n",
    "os.system(\"ls -l \" + ctcf_file)\n",
    "\n",
    "os.system(\"mkdir -p _tmp_\")\n",
    "merged_ctcf   = \"_tmp_/merged_ctcf_file.bed\"\n",
    "merged_six5   = \"_tmp_/merged_six5_file.bed\"\n",
    "merged_znf143 = \"_tmp_/merged_znf143_file.bed\"\n",
    "\n",
    "cmd = \"gunzip -c \" + ctcf_file   + \" | bedtools sort | bedtools merge > \" + merged_ctcf\n",
    "print(cmd)\n",
    "os.system(\"gunzip -c \" + ctcf_file   + \" | bedtools sort | bedtools merge > \" + merged_ctcf)\n",
    "os.system(\"gunzip -c \" + six5_file   + \" | bedtools sort | bedtools merge > \" + merged_six5)\n",
    "os.system(\"gunzip -c \" + znf143_file + \" | bedtools sort | bedtools merge > \" + merged_znf143)"
   ]
  },
  {
   "cell_type": "code",
   "execution_count": 2,
   "metadata": {
    "scrolled": false
   },
   "outputs": [],
   "source": [
    "import pandas as pd\n",
    "def sum_up_interval_len(file, desc):\n",
    "    df = pd.read_csv(file, sep='\\t', index_col=None, header=None)\n",
    "    #experiments = ['ENCSR000AKB', 'ENCSR000BJE','ENCSR000DZL']\n",
    "    #df.columns = ['chr', 'start', 'end']\n",
    "    #print(df.shape)\n",
    "    #print(df.head(5))\n",
    "    \n",
    "    df_new = df.iloc[:,1:].astype('int') # select all rows and all columns except the first one (IDs), convert to int\n",
    "\n",
    "    df_len = df_new.iloc[:,1] - df_new.iloc[:,0] # end - start\n",
    "    #print(df_len.head(5))\n",
    "    \n",
    "    total_len = df_len.sum()\n",
    "    print(\"%12s: #bp in merged file is %10d\" % (desc, total_len))\n",
    "    return total_len"
   ]
  },
  {
   "cell_type": "code",
   "execution_count": 3,
   "metadata": {},
   "outputs": [
    {
     "name": "stdout",
     "output_type": "stream",
     "text": [
      "        ctcf: #bp in merged file is   12407139\n",
      "        six5: #bp in merged file is    1180900\n",
      "      znf143: #bp in merged file is   10903313\n"
     ]
    }
   ],
   "source": [
    "len_ctcf   = sum_up_interval_len(merged_ctcf, \"ctcf\")\n",
    "len_six5   = sum_up_interval_len(merged_six5, \"six5\")\n",
    "len_znf143 = sum_up_interval_len(merged_znf143, \"znf143\")"
   ]
  },
  {
   "cell_type": "code",
   "execution_count": 4,
   "metadata": {},
   "outputs": [
    {
     "name": "stdout",
     "output_type": "stream",
     "text": [
      "   ctcf_six5: #bp in merged file is     130386\n",
      " six5_znf143: #bp in merged file is     729608\n",
      " znf143_ctcf: #bp in merged file is    4299081\n",
      " three-way n: #bp in merged file is     105690\n"
     ]
    }
   ],
   "source": [
    "merged_ctcf_six5_intersection   = \"_tmp_/merged_ctcf_six5_intersection.bed\"\n",
    "merged_six5_znf143_intersection = \"_tmp_/merged_six5_znf143_intersection.bed\"\n",
    "merged_znf143_ctcf_intersection = \"_tmp_/merged_znf143_ctcf_intersection.bed\"\n",
    "merged_all_intersection = \"_tmp_/merged_all_intersection.bed\"\n",
    "\n",
    "os.system(\"bedtools intersect -a \" + merged_ctcf   + \" -b \" + merged_six5 + \" | bedtools merge > \" + \\\n",
    "          merged_ctcf_six5_intersection)\n",
    "os.system(\"bedtools intersect -a \" + merged_six5   + \" -b \" + merged_znf143 + \" | bedtools merge > \" + \\\n",
    "          merged_six5_znf143_intersection)\n",
    "os.system(\"bedtools intersect -a \" + merged_znf143 + \" -b \" + merged_ctcf + \" | bedtools merge > \" + \\\n",
    "          merged_znf143_ctcf_intersection)\n",
    "len_ctcf_six5   = sum_up_interval_len(merged_ctcf_six5_intersection,   \"ctcf_six5\")\n",
    "len_six5_znf143 = sum_up_interval_len(merged_six5_znf143_intersection, \"six5_znf143\")\n",
    "len_znf143_ctcf = sum_up_interval_len(merged_znf143_ctcf_intersection, \"znf143_ctcf\")\n",
    "\n",
    "\n",
    "os.system(\"bedtools intersect -a \" + merged_ctcf_six5_intersection + \" -b \" + merged_znf143 + \" | bedtools merge > \" + \\\n",
    "          merged_all_intersection)\n",
    "len_all = sum_up_interval_len(merged_all_intersection, \"three-way n\")"
   ]
  },
  {
   "cell_type": "code",
   "execution_count": 5,
   "metadata": {},
   "outputs": [
    {
     "name": "stdout",
     "output_type": "stream",
     "text": [
      "   ctcf_six5: #bp in merged file is     130386\n",
      " six5_znf143: #bp in merged file is     729608\n",
      " znf143_ctcf: #bp in merged file is    4299081\n"
     ]
    }
   ],
   "source": [
    "def intersect_tfs(tf_a, tf_b):\n",
    "    tfa_name = \"_tmp_/merged_\" + tf_a + \"_file.bed\"\n",
    "    tfb_name = \"_tmp_/merged_\" + tf_b + \"_file.bed\"\n",
    "    tf_ab_intersect = \"_tmp_/merged_\" + tf_a + \"_\" + tf_b + \"_intersection.bed\"\n",
    "    cmd =\"bedtools intersect -a _tmp_/merged_\" + tf_a + \"_file.bed -b _tmp_/merged_\" + tf_b + \\\n",
    "         \"_file.bed | bedtools merge > merged_\" + tf_a + \"_\" + tf_b + \"_intersection\"\n",
    "    #print(cmd)\n",
    "    os.system(cmd)\n",
    "    len_intersect = sum_up_interval_len(\"merged_\" + tf_a + \"_\" + tf_b + \"_intersection\", tf_a + \"_\" + tf_b)\n",
    "    return len_intersect\n",
    "\n",
    "len_ctcf_six5   = intersect_tfs(\"ctcf\", \"six5\")\n",
    "len_six5_znf143 = intersect_tfs(\"six5\", \"znf143\")\n",
    "len_znf143_ctcf = intersect_tfs(\"znf143\", \"ctcf\")\n",
    "len_ctcf_znf143 = len_znf143_ctcf"
   ]
  },
  {
   "cell_type": "markdown",
   "metadata": {},
   "source": [
    "(4) Print out the ratio (special,picked)/(special,not_picked) / (not_special,picked)/(not_special,not_picked). Also print out the p-value using the fisher’s exact test.\n",
    "(5) Repeat the analysis above, but conditioning on bases that overlap the ZNF143 peak set."
   ]
  },
  {
   "cell_type": "code",
   "execution_count": 6,
   "metadata": {},
   "outputs": [
    {
     "name": "stdout",
     "output_type": "stream",
     "text": [
      "(31.160843103361707, 0.0)\n",
      "(0.09738892962553414, 0.0)\n"
     ]
    }
   ],
   "source": [
    "#question 1: what is the coenrichment of CTCF with six5 (special = CTCF, picked = six5)\n",
    "#contingency table should look like:\n",
    "\n",
    "# [ pos_for_ctcf_and_six5, pos_for_ctcf_but_not_six5]\n",
    "# [ neg_for_ctcf_pos_for_six5, neg_for_ctcf_and_six5]\n",
    "\n",
    "from scipy.stats import fisher_exact\n",
    "print(fisher_exact(table=[\n",
    "    [len_ctcf_six5, len_ctcf - len_ctcf_six5],\n",
    "    [len_six5 - len_ctcf_six5, universe - len_ctcf - len_six5 + len_ctcf_six5]\n",
    "])) # PIE\n",
    "\n",
    "#question 2: What is the coenrichment of CTCF with six5 in the presence of znf143\n",
    "from scipy.stats import fisher_exact\n",
    "print(fisher_exact(table=[\n",
    "    [len_all, len_ctcf_znf143 - len_all],\n",
    "    [len_six5_znf143 - len_all, len_znf143 - len_ctcf_znf143 - len_ctcf_znf143 + len_all]\n",
    "])) # znf \"universe\""
   ]
  }
 ],
 "metadata": {
  "kernelspec": {
   "display_name": "tfenv",
   "language": "python",
   "name": "tfenv"
  },
  "language_info": {
   "codemirror_mode": {
    "name": "ipython",
    "version": 2
   },
   "file_extension": ".py",
   "mimetype": "text/x-python",
   "name": "python",
   "nbconvert_exporter": "python",
   "pygments_lexer": "ipython2",
   "version": "2.7.15"
  }
 },
 "nbformat": 4,
 "nbformat_minor": 2
}
