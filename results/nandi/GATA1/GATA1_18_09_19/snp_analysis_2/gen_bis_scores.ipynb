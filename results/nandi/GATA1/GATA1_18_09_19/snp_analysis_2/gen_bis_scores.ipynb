{
 "cells": [
  {
   "cell_type": "code",
   "execution_count": 11,
   "metadata": {},
   "outputs": [],
   "source": [
    "import numpy as np\n",
    "\n",
    "def debug_signal_handler(signal, frame):\n",
    "    import pdb\n",
    "    pdb.set_trace()\n",
    "import signal\n",
    "signal.signal(signal.SIGINT, debug_signal_handler)\n",
    "\n",
    "seq_size = 1000\n",
    "\n",
    "def one_hot_encode_along_channel_axis(sequence):\n",
    "    #theano dim ordering, uses row axis for one-hot\n",
    "    to_return = np.zeros((len(sequence),4), dtype=np.int8)\n",
    "    seq_to_one_hot_fill_in_array(zeros_array=to_return,\n",
    "                                 sequence=sequence, one_hot_axis=1)\n",
    "    return to_return\n",
    "\n",
    "def seq_to_one_hot_fill_in_array(zeros_array, sequence, one_hot_axis):\n",
    "    assert one_hot_axis==0 or one_hot_axis==1\n",
    "    if (one_hot_axis==0):\n",
    "        assert zeros_array.shape[1] == len(sequence)\n",
    "    elif (one_hot_axis==1): \n",
    "        assert zeros_array.shape[0] == len(sequence)\n",
    "    #will mutate zeros_array\n",
    "    for (i,char) in enumerate(sequence):\n",
    "        if (char==\"A\" or char==\"a\"):\n",
    "            char_idx = 0\n",
    "        elif (char==\"C\" or char==\"c\"):\n",
    "            char_idx = 1\n",
    "        elif (char==\"G\" or char==\"g\"):\n",
    "            char_idx = 2\n",
    "        elif (char==\"T\" or char==\"t\"):\n",
    "            char_idx = 3\n",
    "        elif (char==\"N\" or char==\"n\"):\n",
    "            continue #leave that pos as all 0's\n",
    "        else:\n",
    "            raise RuntimeError(\"Unsupported character: \"+str(char))\n",
    "        if (one_hot_axis==0):\n",
    "            zeros_array[char_idx,i] = 1\n",
    "        elif (one_hot_axis==1):\n",
    "            zeros_array[i,char_idx] = 1\n",
    "\n",
    "#https://www.biostars.org/p/710/\n",
    "from itertools import groupby\n",
    "def fasta_iter(fasta_name):\n",
    "    \"\"\"\n",
    "        given a fasta file, yield tuples of (header, sequence)\n",
    "    \"\"\"\n",
    "    fh = open(fasta_name) # file handle\n",
    "    # ditch the boolean (x[0]) and just keep the header or sequence since they alternate\n",
    "    fa_iter = (x[1] for x in groupby(fh, lambda line: line[0] == \">\"))\n",
    "    for header in fa_iter:\n",
    "        header = header.next()[1:].strip() # drop the \">\" from the header\n",
    "        seq = \"\".join(s.strip() for s in fa_iter.next()) # join all sequence lines to one\n",
    "        yield header, seq\n",
    "\n",
    "# take input sequence name and return the onehot encoding\n",
    "\n",
    "def fasta_to_onehot(input_name):\n",
    "    fasta_sequences = []\n",
    "\n",
    "    fasta = fasta_iter(input_name)\n",
    "\n",
    "    onehot = []\n",
    "    for header, seq in fasta:   \n",
    "        fasta_sequences.append(seq)\n",
    "        onehot_seq = one_hot_encode_along_channel_axis(seq)\n",
    "        onehot.append(onehot_seq)\n",
    "        \n",
    "    return onehot, fasta_sequences\n",
    "\n",
    "# could be optimized, don't need onehot\n",
    "'''\n",
    "def get_snp_scores(score_file, seq_file):\n",
    "    hyp_scores = np.load(score_file)\n",
    "    hyp_scores = hyp_scpres[:100]\n",
    "    off = int((seq_size-1)/2)\n",
    "    snp_hyp = hyp_scores[:, off]\n",
    "\n",
    "    #print(\"snp_hyp shape=\", snp_hyp.shape)\n",
    "    #print(\"snp_hyp[:5]=\\n\", snp_hyp[:5])\n",
    "\n",
    "    onehot = fasta_to_onehot(seq_file)\n",
    "    snp_onehot = [one_seq[off] for one_seq in onehot]\n",
    "    #print(\"onehot done \", len(onehot), snp_onehot[0].shape)\n",
    "    #print(\"onehot[:5]=\\n\", snp_onehot[:5])\n",
    "\n",
    "    snp_scores = []\n",
    "    for i in range(len(hyp_scores)):\n",
    "        snp_score = snp_hyp[i] * snp_onehot[i]\n",
    "        snp_scores.append(np.sum(snp_score))\n",
    "    print(\"snp_scores done \", len(snp_scores))\n",
    "    print(snp_scores[:5])\n",
    "    return snp_scores\n",
    "'''\n",
    "def get_imp_scores(score_file, seq_file):\n",
    "    hyp_scores = np.load(score_file)\n",
    "    onehot, seqs = fasta_to_onehot(seq_file)\n",
    "    #hyp_scores = hyp_scores[:10]\n",
    "    #onehot     = onehot[:10]\n",
    "    #print(\"onehot done \", len(onehot))\n",
    "    #print(\"onehot[:5]=\\n\", onehot[:5])\n",
    "\n",
    "    imp_scores = []\n",
    "    for i in range(len(hyp_scores)):\n",
    "        contrib_score = hyp_scores[i] * onehot[i]\n",
    "        #imp_scores.append(np.sum(contrib_score, axis=-1))\n",
    "        imp_scores.append(contrib_score)\n",
    "\n",
    "    #print(\"imp_scores shape=\", imp_scores[0].shape, len(imp_scores))\n",
    "    #print(imp_scores[:2][:5])\n",
    "    return imp_scores, seqs\n",
    "\n",
    "def get_snp_hyp_score_diff(score_file, seq_file):\n",
    "    hyp_scores = np.load(score_file)\n",
    "    off = int((seq_size)/2)\n",
    "    snp_hyp = hyp_scores[:, off]\n",
    "\n",
    "    print(\"snp_hyp shape=\", snp_hyp.shape)\n",
    "    #print(\"snp_hyp[:5]=\\n\", snp_hyp[:5])\n",
    "\n",
    "    onehot = fasta_to_onehot(seq_file)\n",
    "    snp_onehot = [one_seq[off] for one_seq in onehot]\n",
    "    print(\"onehot done \", len(onehot), snp_onehot[0].shape)\n",
    "    #print(\"onehot[:2]=\\n\", snp_onehot[:2][:5])\n",
    "\n",
    "    diff_scores = []\n",
    "    for i in range(len(hyp_scores)):\n",
    "        snp_score = snp_hyp[i] * snp_onehot[i]\n",
    "        diff      = snp_hyp[i] - snp_score\n",
    "        max_diff  = np.max(np.abs(diff), axis=-1)\n",
    "        #print(diff.shape, max_diff.shape)\n",
    "\n",
    "        diff_scores.append(max_diff)\n",
    "    print(\"diff_scores done \", len(diff_scores))\n",
    "    #print(diff_scores[:5])\n",
    "    return diff_scores\n",
    "\n",
    "def max_sub_array_sum(a, size): \n",
    "      \n",
    "    max_so_far = 0\n",
    "    max_ending_here = 0\n",
    "      \n",
    "    for i in range(0, size): \n",
    "        max_ending_here = max_ending_here + a[i] \n",
    "        if max_ending_here < 0: \n",
    "            max_ending_here = 0\n",
    "          \n",
    "        # Do not compare for all elements. Compare only    \n",
    "        # when  max_ending_here > 0 \n",
    "        elif (max_so_far < max_ending_here): \n",
    "            max_so_far = max_ending_here \n",
    "              \n",
    "    return max_so_far \n",
    "\n",
    "def center_window_sum(a, win):\n",
    "    off = int((seq_size)/2)\n",
    "    start = off - int(win/2)\n",
    "    end   = start + win\n",
    "    score = sum(a[start:end])\n",
    "    return score\n",
    "\n",
    "def calc_bis_score(a, size):\n",
    "    #return max_sub_array_sum(a, size)\n",
    "    win_sum = center_window_sum(a, size)\n",
    "    return np.sum(win_sum, axis=-1)\n",
    "\n",
    "# snp_diffs[i] i= 0,1,2 are the score differences for 3 alleles\n",
    "# for each allele, it stored differences for each SNP\n",
    "# for each SNP, it stored differences for 1k bp surrounding the SNP, of shape (1000)\n",
    "def get_diff_scores(score_prefix, seq_prefix):\n",
    "    snp_alleles = {}\n",
    "    snp_diffs   = {}\n",
    "    snp_orig, _ = get_imp_scores(score_prefix + \"0\", seq_prefix + \"0\") # (10k, 1000)\n",
    "    print(\"snp_orig shape=\", snp_orig[0].shape, len(snp_orig))\n",
    "    for i in range(3):\n",
    "        snp_allele, _  = get_imp_scores(score_prefix + str(i+1), seq_prefix + str(i+1)) # (10k, 1000)\n",
    "        snp_diff    = [s - o for o,s in zip(snp_orig, snp_allele)] # (10k, 1000)\n",
    "        snp_alleles[i] = snp_allele\n",
    "        snp_diffs  [i] = snp_diff\n",
    "        print(\"snp_diff \" + str(i+1) + \" shape=\", snp_diff[0].shape) #, \"\\n\" , snp_diff[:2][:5])\n",
    "    return snp_diffs\n",
    "        \n",
    "def get_bis_scores(snp_diffs):\n",
    "    bis_scores  = {}\n",
    "    for i in range(3):\n",
    "        bis_scores[i] = [calc_bis_score(diff, 1) for diff in snp_diffs[i]]\n",
    "    # elementwise max among 3 lists\n",
    "    max_bis_score = np.maximum.reduce([bis_scores[0], bis_scores[1], bis_scores[2]])\n",
    "    print(\"len of max_bis_score=\", len(max_bis_score), \"\\n\", max_bis_score[:5])\n",
    "    return max_bis_score\n",
    "\n",
    "\n",
    "from numpy import genfromtxt\n",
    "import math\n",
    "\n",
    "def get_snp_pvals(fname):\n",
    "    snp_pvals = []\n",
    "    with open(fname) as in_fh:\n",
    "        header = next(in_fh)\n",
    "        line_num = 0\n",
    "        for line in in_fh:\n",
    "            fields = line.split('\\t')\n",
    "            snp_chrom = fields[0]\n",
    "            snp_pos   = int(fields[1])\n",
    "            pval  = float(fields[9])\n",
    "            snp_pvals.append(-math.log(pval, 10))\n",
    "            line_num += 1\n",
    "    return snp_pvals"
   ]
  },
  {
   "cell_type": "code",
   "execution_count": 19,
   "metadata": {
    "scrolled": false
   },
   "outputs": [
    {
     "name": "stdout",
     "output_type": "stream",
     "text": [
      "-----\n",
      "scores/interpret.fa0\n",
      "(2, 1000, 4)\n",
      "[[ 0.03874968 -0.03838798  0.11163622 -0.01073624]\n",
      " [ 0.01491533  0.08625678  0.01637695  0.00663242]\n",
      " [-0.00044886  0.04852634  0.03265303 -0.00788318]\n",
      " [ 0.01286379  0.09897652  0.10260289 -0.02515026]\n",
      " [-0.09900622  0.08173011 -0.03567359 -0.01795276]\n",
      " [ 0.0315867   0.0575464   0.16789612 -0.02939641]\n",
      " [ 0.02183104  0.12836252  0.08145076 -0.07298528]\n",
      " [ 0.00098715  0.01394019  0.08572029 -0.00510346]\n",
      " [-0.03473106  0.04014698  0.06126369 -0.01220557]\n",
      " [-0.05280935  0.05332133 -0.05564438  0.05929868]]\n",
      "-----\n",
      "SNP chr10:90749256 G->A\n",
      "('aggctggcac[g]cccagggtc', 'importance score for original sequence')\n"
     ]
    },
    {
     "data": {
      "image/png": "[encoded data removed]",
      "text/plain": [
       "<Figure size 360x72 with 1 Axes>"
      ]
     },
     "metadata": {},
     "output_type": "display_data"
    },
    {
     "name": "stdout",
     "output_type": "stream",
     "text": [
      "('AGGCTGGCAC[A]CCCAGGGTC', 'importance score for mutated sequence ')\n"
     ]
    },
    {
     "data": {
      "image/png": "[encoded data removed]",
      "text/plain": [
       "<Figure size 360x72 with 1 Axes>"
      ]
     },
     "metadata": {},
     "output_type": "display_data"
    },
    {
     "name": "stdout",
     "output_type": "stream",
     "text": [
      "Mutation Impact Score \n"
     ]
    },
    {
     "data": {
      "image/png": "[encoded data removed]",
      "text/plain": [
       "<Figure size 360x72 with 1 Axes>"
      ]
     },
     "metadata": {},
     "output_type": "display_data"
    },
    {
     "name": "stdout",
     "output_type": "stream",
     "text": [
      "SNP chr10:90749963 A->G\n",
      "('TCCATTCCAG[A]AACGTCTGT', 'importance score for original sequence')\n"
     ]
    },
    {
     "data": {
      "image/png": "[encoded data removed]",
      "text/plain": [
       "<Figure size 360x72 with 1 Axes>"
      ]
     },
     "metadata": {},
     "output_type": "display_data"
    },
    {
     "name": "stdout",
     "output_type": "stream",
     "text": [
      "('TCCATTCCAG[G]AACGTCTGT', 'importance score for mutated sequence ')\n"
     ]
    },
    {
     "data": {
      "image/png": "[encoded data removed]",
      "text/plain": [
       "<Figure size 360x72 with 1 Axes>"
      ]
     },
     "metadata": {},
     "output_type": "display_data"
    },
    {
     "name": "stdout",
     "output_type": "stream",
     "text": [
      "Mutation Impact Score \n"
     ]
    },
    {
     "data": {
      "image/png": "[encoded data removed]",
      "text/plain": [
       "<Figure size 360x72 with 1 Axes>"
      ]
     },
     "metadata": {},
     "output_type": "display_data"
    },
    {
     "name": "stdout",
     "output_type": "stream",
     "text": [
      "('len of max_bis_score=', 2, '\\n', array([-0.0623336 ,  0.00841726], dtype=float32))\n"
     ]
    }
   ],
   "source": [
    "from modisco.visualization import viz_sequence\n",
    "np.set_printoptions(suppress=True)\n",
    "%matplotlib inline\n",
    "\n",
    "score_prefix = \"scores/hyp_scores_task_0.npy\"\n",
    "seq_prefix   = \"scores/interpret.fa\"\n",
    "snp_alleles = {}\n",
    "snp_diffs   = {}\n",
    "snp_orig, seqs_orig = get_imp_scores(score_prefix + \"0\", seq_prefix + \"0\") # (10k, 1000)\n",
    "score_file = score_prefix + \"0\"\n",
    "seq_file   = seq_prefix + \"0\"\n",
    "\n",
    "hyp_scores = np.load(score_file)\n",
    "onehot, _  = fasta_to_onehot(seq_file)\n",
    "\n",
    "\n",
    "\n",
    "print(\"-----\")\n",
    "print(seq_file)\n",
    "print(hyp_scores.shape)\n",
    "print(hyp_scores[0][495:505])\n",
    "print(\"-----\")\n",
    "#hyp_scores = hyp_scores[:10]\n",
    "#onehot     = onehot[:10]\n",
    "#print(\"onehot done \", len(onehot))\n",
    "#print(\"onehot[:5]=\\n\", onehot[:5])\n",
    "\n",
    "imp_scores = []\n",
    "for i in range(len(hyp_scores)):\n",
    "    contrib_score = hyp_scores[i] * onehot[i]\n",
    "    imp_scores.append(np.sum(contrib_score, axis=-1))\n",
    "\n",
    "'''\n",
    "highlight={'r':[(10,11)]}\n",
    "for start_pos, end_pos in highlight['r']:\n",
    "    print(highlight['r'])\n",
    "    print(start_pos, end_pos)\n",
    "'''\n",
    "\n",
    "allele_idx = [0,1] # G->A(0), A->G(1)\n",
    "\n",
    "snp_desc   = [\"SNP chr10:90749256 G->A\", \"SNP chr10:90749963 A->G\"]\n",
    "\n",
    "def seqs_str(seqs, snp):\n",
    "    return seqs[snp][490:500] + '[' + seqs[snp][500:501] + ']' + seqs[snp][501:510]\n",
    "\n",
    "#print(\"snp_orig shape=\", snp_orig[0].shape, len(snp_orig))\n",
    "for snp in range(2): # two snps\n",
    "\n",
    "    print(snp_desc[snp])\n",
    "\n",
    "    print(seqs_str(seqs_orig, snp), \"importance score for original sequence\")\n",
    "\n",
    "    viz_sequence.plot_weights(snp_orig[snp][490:510], figsize=(5,1), highlight={'r':[(10,11)]})\n",
    "\n",
    "    bis_scores  = {}\n",
    "\n",
    "\n",
    "    for i in range(3): # each i is an allele\n",
    "        snp_allele, seqs  = get_imp_scores(score_prefix + str(i+1), seq_prefix + str(i+1)) # (10k, 1000)\n",
    "\n",
    "        snp_diff    = [s - o for o,s in zip(snp_orig, snp_allele)] # (10k, 1000)\n",
    "        #snp_alleles[i] = snp_allele\n",
    "        snp_diffs  [i] = snp_diff\n",
    "\n",
    "        if i == allele_idx[snp]:\n",
    "            print(seqs_str(seqs, snp), \"importance score for mutated sequence \")\n",
    "            #print(snp_allele[snp][495:505])\n",
    "            viz_sequence.plot_weights(snp_allele[snp][490:510], figsize=(5,1), highlight={'r':[(10,11)]})\n",
    "            #print(\"snp_diff \" + str(i+1) + \" shape=\", snp_diff[0].shape)\n",
    "            print(\"Mutation Impact Score \")\n",
    "            #print(snp_diff[snp][495:505])\n",
    "            viz_sequence.plot_weights(snp_diff[snp][490:510], figsize=(5,1), highlight={'r':[(10,11)]})\n",
    "\n",
    "        bis_scores[i] = [calc_bis_score(diff, 1) for diff in snp_diffs[i]]\n",
    "        # elementwise max among 3 lists\n",
    "        #print(\"bis_scores\\n\", bis_scores[i])\n",
    "\n",
    "max_bis_score = np.maximum.reduce([bis_scores[0], bis_scores[1], bis_scores[2]])\n",
    "print(\"len of max_bis_score=\", len(max_bis_score), \"\\n\", max_bis_score[:5])\n",
    "\n"
   ]
  },
  {
   "cell_type": "code",
   "execution_count": null,
   "metadata": {},
   "outputs": [],
   "source": []
  },
  {
   "cell_type": "code",
   "execution_count": 13,
   "metadata": {},
   "outputs": [
    {
     "name": "stdout",
     "output_type": "stream",
     "text": [
      "('snp_orig shape=', (1000, 4), 2)\n",
      "('snp_diff 1 shape=', (1000, 4))\n",
      "('snp_diff 2 shape=', (1000, 4))\n",
      "('snp_diff 3 shape=', (1000, 4))\n",
      "[[-0.          0.          0.         -0.0718535 ]\n",
      " [ 0.          0.0268842   0.          0.        ]\n",
      " [ 0.          0.05685079  0.          0.        ]\n",
      " [ 0.01531182  0.          0.          0.        ]\n",
      " [-0.          0.          0.0015868   0.        ]\n",
      " [-0.03111504  0.          0.         -0.01731014]\n",
      " [ 0.09789492  0.          0.         -0.        ]\n",
      " [ 0.07620191  0.          0.          0.        ]\n",
      " [ 0.          0.02345105  0.          0.        ]\n",
      " [ 0.          0.          0.00733198  0.        ]]\n",
      "('len of max_bis_score=', 2, '\\n', array([-0.0623336 ,  0.00841726], dtype=float32))\n",
      "[-0.0623336   0.00841726]\n"
     ]
    }
   ],
   "source": [
    "#diff_scores = get_snp_hyp_score_diff(\"scores/hyp_scores_task_0.npy\")\n",
    "snp_diffs  = get_diff_scores(\"scores/hyp_scores_task_0.npy\", \"scores/interpret.fa\")\n",
    "print(snp_diff[snp][495:505])\n",
    "\n",
    "bis_scores = get_bis_scores(snp_diffs)\n",
    "print(bis_scores)"
   ]
  },
  {
   "cell_type": "code",
   "execution_count": null,
   "metadata": {},
   "outputs": [],
   "source": []
  }
 ],
 "metadata": {
  "kernelspec": {
   "display_name": "modisco_dev",
   "language": "python",
   "name": "modisco_dev"
  },
  "language_info": {
   "codemirror_mode": {
    "name": "ipython",
    "version": 2
   },
   "file_extension": ".py",
   "mimetype": "text/x-python",
   "name": "python",
   "nbconvert_exporter": "python",
   "pygments_lexer": "ipython2",
   "version": "2.7.15"
  }
 },
 "nbformat": 4,
 "nbformat_minor": 2
}
