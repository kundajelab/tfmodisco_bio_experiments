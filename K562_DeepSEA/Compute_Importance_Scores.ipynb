{
 "cells": [
  {
   "cell_type": "code",
   "execution_count": 1,
   "metadata": {},
   "outputs": [
    {
     "name": "stderr",
     "output_type": "stream",
     "text": [
      "Using TensorFlow backend.\n",
      "WARNING: Logging before flag parsing goes to stderr.\n",
      "W0822 16:31:40.468896 140525122139904 deprecation_wrapper.py:119] From /users/avanti/anaconda3/lib/python3.7/site-packages/keras/backend/tensorflow_backend.py:517: The name tf.placeholder is deprecated. Please use tf.compat.v1.placeholder instead.\n",
      "\n",
      "W0822 16:31:40.496711 140525122139904 deprecation_wrapper.py:119] From /users/avanti/anaconda3/lib/python3.7/site-packages/keras/backend/tensorflow_backend.py:4138: The name tf.random_uniform is deprecated. Please use tf.random.uniform instead.\n",
      "\n",
      "W0822 16:31:40.567846 140525122139904 deprecation_wrapper.py:119] From /users/avanti/anaconda3/lib/python3.7/site-packages/keras/backend/tensorflow_backend.py:131: The name tf.get_default_graph is deprecated. Please use tf.compat.v1.get_default_graph instead.\n",
      "\n",
      "W0822 16:31:40.568900 140525122139904 deprecation_wrapper.py:119] From /users/avanti/anaconda3/lib/python3.7/site-packages/keras/backend/tensorflow_backend.py:133: The name tf.placeholder_with_default is deprecated. Please use tf.compat.v1.placeholder_with_default instead.\n",
      "\n",
      "W0822 16:31:40.580488 140525122139904 deprecation.py:506] From /users/avanti/anaconda3/lib/python3.7/site-packages/keras/backend/tensorflow_backend.py:3445: calling dropout (from tensorflow.python.ops.nn_ops) with keep_prob is deprecated and will be removed in a future version.\n",
      "Instructions for updating:\n",
      "Please use `rate` instead of `keep_prob`. Rate should be set to `rate = 1 - keep_prob`.\n",
      "W0822 16:31:40.604371 140525122139904 deprecation_wrapper.py:119] From /users/avanti/anaconda3/lib/python3.7/site-packages/keras/backend/tensorflow_backend.py:3976: The name tf.nn.max_pool is deprecated. Please use tf.nn.max_pool2d instead.\n",
      "\n",
      "W0822 16:31:41.213912 140525122139904 deprecation_wrapper.py:119] From /users/avanti/anaconda3/lib/python3.7/site-packages/keras/backend/tensorflow_backend.py:174: The name tf.get_default_session is deprecated. Please use tf.compat.v1.get_default_session instead.\n",
      "\n",
      "/users/avanti/anaconda3/lib/python3.7/site-packages/keras/engine/saving.py:292: UserWarning: No training configuration found in save file: the model was *not* compiled. Compile it manually.\n",
      "  warnings.warn('No training configuration found in save file: '\n"
     ]
    }
   ],
   "source": [
    "import keras\n",
    "from keras.models import load_model\n",
    "deepsea_model = load_model(\"/srv/scratch/avanti/ExPecto/resources/deepseabeluga_keras.h5\")"
   ]
  },
  {
   "cell_type": "code",
   "execution_count": 7,
   "metadata": {},
   "outputs": [
    {
     "name": "stderr",
     "output_type": "stream",
     "text": [
      "bash: line 13: module: command not found\n",
      "bash: line 17: liftOver: command not found\n",
      "gzip: hg38_merged_universal_neg_representative_peaks.bed: No such file or directory\n",
      "rm: cannot remove 'unmapped_merged_universal_neg_representative_peaks.bed': No such file or directory\n",
      "rm: cannot remove 'merged_universal_neg_representative_peaks.bed.gz': No such file or directory\n",
      "Error: The requested genome file (/mnt/data/annotations/by_organism/human/hg20.GRCh38/hg38.chrom.sizes) could not be opened. Exiting!\n",
      "gzip: hg38_merged_universal_neg_representative_peaks.bed.gz: No such file or directory\n",
      "Error: The requested genome file (/mnt/data/annotations/by_organism/human/hg20.GRCh38/hg38.chrom.sizes) could not be opened. Exiting!\n",
      "Error: The requested fasta database file (/mnt/data/annotations/by_organism/human/hg20.GRCh38/GRCh38.genome.fa) could not be opened. Exiting!\n",
      "Error: The requested fasta database file (/mnt/data/annotations/by_organism/human/hg20.GRCh38/GRCh38.genome.fa) could not be opened. Exiting!\n"
     ]
    },
    {
     "ename": "CalledProcessError",
     "evalue": "Command 'b'\\n#copy over the new K562 dnase file\\ncp /oak/stanford/groups/akundaje/projects/atlas/dnase_processed/k562_dnase/hg38/cromwell-executions/atac/41bb41c3-c39b-4145-9305-58cc692ef2e4/call-reproducibility_overlap/execution/optimal_peak.narrowPeak.gz hg38_new_k562.narrowPeak.gz\\n\\n#prep universal dnase negatives - for performance assessment\\n#universal_negatives=/srv/scratch/annashch/deeplearning/gecco/encode_dnase/all_dnase_idr_peaks.sorted.bed\\n#merged_universal_neg=\"merged_universal_neg.bed.gz\"\\n#cat $universal_negatives | mergeBed | gzip -c > $merged_universal_neg\\n#bedtools intersect -sorted -a $merged_universal_neg -b $universal_negatives -wa -wb | gzip -c > merged_universal_neg_intersected.bed.gz\\n#./take_best_peak.py | gzip -c > merged_universal_neg_representative_peaks.bed.gz\\n\\n#Map the representative DNase negatives to hg38 using liftover\\nmodule load ucsc_tools\\n#download the liftover chain file if it doesn\\'t exist already\\n[[ -e hg19ToHg38.over.chain.gz ]] || wget http://hgdownload.cse.ucsc.edu/goldenpath/hg19/liftOver/hg19ToHg38.over.chain.gz\\n#run the liftover command\\nliftOver merged_universal_neg_representative_peaks.bed.gz hg19ToHg38.over.chain.gz hg38_merged_universal_neg_representative_peaks.bed unmapped_merged_universal_neg_representative_peaks.bed\\n#compress and clean up\\ngzip hg38_merged_universal_neg_representative_peaks.bed\\nrm unmapped_merged_universal_neg_representative_peaks.bed\\nrm merged_universal_neg_representative_peaks.bed.gz\\n\\n#take 2000bp around the summit of the k562 peaks\\nzcat hg38_new_k562.narrowPeak.gz | perl -lane \\'print $F[0].\"\\\\t\".(($F[1]+$F[9])).\"\\\\t\".(($F[1]+$F[9]))\\' | bedtools slop -g /mnt/data/annotations/by_organism/human/hg20.GRCh38/hg38.chrom.sizes -b 1000 | perl -lane \\'if ($F[2]-$F[1]==2000) {print $_}\\' | gzip -c > 2000bp_around_hg38_new_k562.narrowPeak.gz\\n#take 2000bp around the summit of the DNAse peaks\\nzcat hg38_merged_universal_neg_representative_peaks.bed.gz | perl -lane \\'print $F[0].\"\\\\t\".(($F[1]+$F[9])).\"\\\\t\".(($F[1]+$F[9]))\\' | bedtools slop -g /mnt/data/annotations/by_organism/human/hg20.GRCh38/hg38.chrom.sizes -b 1000 | perl -lane \\'if ($F[2]-$F[1]==2000) {print $_}\\' | gzip -c > 2000bp_around_hg38_merged_universal_neg_representative_peaks.bed.gz\\n\\n#filter out any universal dnase that overlap anything in the k562 set \\nintersectBed -v -a 2000bp_around_hg38_merged_universal_neg_representative_peaks.bed.gz -b 2000bp_around_hg38_new_k562.narrowPeak.gz -wa | gzip -c > nok562_2000bp_around_hg38_merged_universal_neg_representative_peaks.bed.gz\\n#clean up the intermediate file\\nrm 2000bp_around_hg38_merged_universal_neg_representative_peaks.bed.gz\\n\\n#get the fasta sequences underlying the 2000bp regions\\nbedtools getfasta -fi /mnt/data/annotations/by_organism/human/hg20.GRCh38/GRCh38.genome.fa -bed 2000bp_around_hg38_new_k562.narrowPeak.gz > 2000bp_around_hg38_new_k562.fa\\n\\nbedtools getfasta -fi /mnt/data/annotations/by_organism/human/hg20.GRCh38/GRCh38.genome.fa -bed nok562_2000bp_around_hg38_merged_universal_neg_representative_peaks.bed.gz > nok562_2000bp_around_hg38_merged_universal_neg_representative_peaks.fa\\n'' returned non-zero exit status 1.",
     "output_type": "error",
     "traceback": [
      "\u001b[0;31m---------------------------------------------------------------------------\u001b[0m",
      "\u001b[0;31mCalledProcessError\u001b[0m                        Traceback (most recent call last)",
      "\u001b[0;32m<ipython-input-7-b7a8e49db0a3>\u001b[0m in \u001b[0;36m<module>\u001b[0;34m\u001b[0m\n\u001b[0;32m----> 1\u001b[0;31m \u001b[0mget_ipython\u001b[0m\u001b[0;34m(\u001b[0m\u001b[0;34m)\u001b[0m\u001b[0;34m.\u001b[0m\u001b[0mrun_cell_magic\u001b[0m\u001b[0;34m(\u001b[0m\u001b[0;34m'bash'\u001b[0m\u001b[0;34m,\u001b[0m \u001b[0;34m''\u001b[0m\u001b[0;34m,\u001b[0m \u001b[0;34m'\\n#copy over the new K562 dnase file\\ncp /oak/stanford/groups/akundaje/projects/atlas/dnase_processed/k562_dnase/hg38/cromwell-executions/atac/41bb41c3-c39b-4145-9305-58cc692ef2e4/call-reproducibility_overlap/execution/optimal_peak.narrowPeak.gz hg38_new_k562.narrowPeak.gz\\n\\n#prep universal dnase negatives - for performance assessment\\n#universal_negatives=/srv/scratch/annashch/deeplearning/gecco/encode_dnase/all_dnase_idr_peaks.sorted.bed\\n#merged_universal_neg=\"merged_universal_neg.bed.gz\"\\n#cat $universal_negatives | mergeBed | gzip -c > $merged_universal_neg\\n#bedtools intersect -sorted -a $merged_universal_neg -b $universal_negatives -wa -wb | gzip -c > merged_universal_neg_intersected.bed.gz\\n#./take_best_peak.py | gzip -c > merged_universal_neg_representative_peaks.bed.gz\\n\\n#Map the representative DNase negatives to hg38 using liftover\\nmodule load ucsc_tools\\n#download the liftover chain file if it doesn\\'t exist already\\n[[ -e hg19ToHg38.over.chain.gz ]] || wget http://hgdownload.cse.ucsc.edu/goldenpath/hg19/liftOver/hg19ToHg38.over.chain.gz\\n#run the liftover command\\nliftOver merged_universal_neg_representative_peaks.bed.gz hg19ToHg38.over.chain.gz hg38_merged_universal_neg_representative_peaks.bed unmapped_merged_universal_neg_representative_peaks.bed\\n#compress and clean up\\ngzip hg38_merged_universal_neg_representative_peaks.bed\\nrm unmapped_merged_universal_neg_representative_peaks.bed\\nrm merged_universal_neg_representative_peaks.bed.gz\\n\\n#take 2000bp around the summit of the k562 peaks\\nzcat hg38_new_k562.narrowPeak.gz | perl -lane \\'print $F[0].\"\\\\t\".(($F[1]+$F[9])).\"\\\\t\".(($F[1]+$F[9]))\\' | bedtools slop -g /mnt/data/annotations/by_organism/human/hg20.GRCh38/hg38.chrom.sizes -b 1000 | perl -lane \\'if ($F[2]-$F[1]==2000) {print $_}\\' | gzip -c > 2000bp_around_hg38_new_k562.narrowPeak.gz\\n#take 2000bp around the summit of the DNAse peaks\\nzcat hg38_merged_universal_neg_representative_peaks.bed.gz | perl -lane \\'print $F[0].\"\\\\t\".(($F[1]+$F[9])).\"\\\\t\".(($F[1]+$F[9]))\\' | bedtools slop -g /mnt/data/annotations/by_organism/human/hg20.GRCh38/hg38.chrom.sizes -b 1000 | perl -lane \\'if ($F[2]-$F[1]==2000) {print $_}\\' | gzip -c > 2000bp_around_hg38_merged_universal_neg_representative_peaks.bed.gz\\n\\n#filter out any universal dnase that overlap anything in the k562 set \\nintersectBed -v -a 2000bp_around_hg38_merged_universal_neg_representative_peaks.bed.gz -b 2000bp_around_hg38_new_k562.narrowPeak.gz -wa | gzip -c > nok562_2000bp_around_hg38_merged_universal_neg_representative_peaks.bed.gz\\n#clean up the intermediate file\\nrm 2000bp_around_hg38_merged_universal_neg_representative_peaks.bed.gz\\n\\n#get the fasta sequences underlying the 2000bp regions\\nbedtools getfasta -fi /mnt/data/annotations/by_organism/human/hg20.GRCh38/GRCh38.genome.fa -bed 2000bp_around_hg38_new_k562.narrowPeak.gz > 2000bp_around_hg38_new_k562.fa\\n\\nbedtools getfasta -fi /mnt/data/annotations/by_organism/human/hg20.GRCh38/GRCh38.genome.fa -bed nok562_2000bp_around_hg38_merged_universal_neg_representative_peaks.bed.gz > nok562_2000bp_around_hg38_merged_universal_neg_representative_peaks.fa\\n'\u001b[0m\u001b[0;34m)\u001b[0m\u001b[0;34m\u001b[0m\u001b[0;34m\u001b[0m\u001b[0m\n\u001b[0m",
      "\u001b[0;32m~/anaconda3/lib/python3.7/site-packages/IPython/core/interactiveshell.py\u001b[0m in \u001b[0;36mrun_cell_magic\u001b[0;34m(self, magic_name, line, cell)\u001b[0m\n\u001b[1;32m   2350\u001b[0m             \u001b[0;32mwith\u001b[0m \u001b[0mself\u001b[0m\u001b[0;34m.\u001b[0m\u001b[0mbuiltin_trap\u001b[0m\u001b[0;34m:\u001b[0m\u001b[0;34m\u001b[0m\u001b[0;34m\u001b[0m\u001b[0m\n\u001b[1;32m   2351\u001b[0m                 \u001b[0margs\u001b[0m \u001b[0;34m=\u001b[0m \u001b[0;34m(\u001b[0m\u001b[0mmagic_arg_s\u001b[0m\u001b[0;34m,\u001b[0m \u001b[0mcell\u001b[0m\u001b[0;34m)\u001b[0m\u001b[0;34m\u001b[0m\u001b[0;34m\u001b[0m\u001b[0m\n\u001b[0;32m-> 2352\u001b[0;31m                 \u001b[0mresult\u001b[0m \u001b[0;34m=\u001b[0m \u001b[0mfn\u001b[0m\u001b[0;34m(\u001b[0m\u001b[0;34m*\u001b[0m\u001b[0margs\u001b[0m\u001b[0;34m,\u001b[0m \u001b[0;34m**\u001b[0m\u001b[0mkwargs\u001b[0m\u001b[0;34m)\u001b[0m\u001b[0;34m\u001b[0m\u001b[0;34m\u001b[0m\u001b[0m\n\u001b[0m\u001b[1;32m   2353\u001b[0m             \u001b[0;32mreturn\u001b[0m \u001b[0mresult\u001b[0m\u001b[0;34m\u001b[0m\u001b[0;34m\u001b[0m\u001b[0m\n\u001b[1;32m   2354\u001b[0m \u001b[0;34m\u001b[0m\u001b[0m\n",
      "\u001b[0;32m~/anaconda3/lib/python3.7/site-packages/IPython/core/magics/script.py\u001b[0m in \u001b[0;36mnamed_script_magic\u001b[0;34m(line, cell)\u001b[0m\n\u001b[1;32m    140\u001b[0m             \u001b[0;32melse\u001b[0m\u001b[0;34m:\u001b[0m\u001b[0;34m\u001b[0m\u001b[0;34m\u001b[0m\u001b[0m\n\u001b[1;32m    141\u001b[0m                 \u001b[0mline\u001b[0m \u001b[0;34m=\u001b[0m \u001b[0mscript\u001b[0m\u001b[0;34m\u001b[0m\u001b[0;34m\u001b[0m\u001b[0m\n\u001b[0;32m--> 142\u001b[0;31m             \u001b[0;32mreturn\u001b[0m \u001b[0mself\u001b[0m\u001b[0;34m.\u001b[0m\u001b[0mshebang\u001b[0m\u001b[0;34m(\u001b[0m\u001b[0mline\u001b[0m\u001b[0;34m,\u001b[0m \u001b[0mcell\u001b[0m\u001b[0;34m)\u001b[0m\u001b[0;34m\u001b[0m\u001b[0;34m\u001b[0m\u001b[0m\n\u001b[0m\u001b[1;32m    143\u001b[0m \u001b[0;34m\u001b[0m\u001b[0m\n\u001b[1;32m    144\u001b[0m         \u001b[0;31m# write a basic docstring:\u001b[0m\u001b[0;34m\u001b[0m\u001b[0;34m\u001b[0m\u001b[0;34m\u001b[0m\u001b[0m\n",
      "\u001b[0;32m</users/avanti/anaconda3/lib/python3.7/site-packages/decorator.py:decorator-gen-110>\u001b[0m in \u001b[0;36mshebang\u001b[0;34m(self, line, cell)\u001b[0m\n",
      "\u001b[0;32m~/anaconda3/lib/python3.7/site-packages/IPython/core/magic.py\u001b[0m in \u001b[0;36m<lambda>\u001b[0;34m(f, *a, **k)\u001b[0m\n\u001b[1;32m    185\u001b[0m     \u001b[0;31m# but it's overkill for just that one bit of state.\u001b[0m\u001b[0;34m\u001b[0m\u001b[0;34m\u001b[0m\u001b[0;34m\u001b[0m\u001b[0m\n\u001b[1;32m    186\u001b[0m     \u001b[0;32mdef\u001b[0m \u001b[0mmagic_deco\u001b[0m\u001b[0;34m(\u001b[0m\u001b[0marg\u001b[0m\u001b[0;34m)\u001b[0m\u001b[0;34m:\u001b[0m\u001b[0;34m\u001b[0m\u001b[0;34m\u001b[0m\u001b[0m\n\u001b[0;32m--> 187\u001b[0;31m         \u001b[0mcall\u001b[0m \u001b[0;34m=\u001b[0m \u001b[0;32mlambda\u001b[0m \u001b[0mf\u001b[0m\u001b[0;34m,\u001b[0m \u001b[0;34m*\u001b[0m\u001b[0ma\u001b[0m\u001b[0;34m,\u001b[0m \u001b[0;34m**\u001b[0m\u001b[0mk\u001b[0m\u001b[0;34m:\u001b[0m \u001b[0mf\u001b[0m\u001b[0;34m(\u001b[0m\u001b[0;34m*\u001b[0m\u001b[0ma\u001b[0m\u001b[0;34m,\u001b[0m \u001b[0;34m**\u001b[0m\u001b[0mk\u001b[0m\u001b[0;34m)\u001b[0m\u001b[0;34m\u001b[0m\u001b[0;34m\u001b[0m\u001b[0m\n\u001b[0m\u001b[1;32m    188\u001b[0m \u001b[0;34m\u001b[0m\u001b[0m\n\u001b[1;32m    189\u001b[0m         \u001b[0;32mif\u001b[0m \u001b[0mcallable\u001b[0m\u001b[0;34m(\u001b[0m\u001b[0marg\u001b[0m\u001b[0;34m)\u001b[0m\u001b[0;34m:\u001b[0m\u001b[0;34m\u001b[0m\u001b[0;34m\u001b[0m\u001b[0m\n",
      "\u001b[0;32m~/anaconda3/lib/python3.7/site-packages/IPython/core/magics/script.py\u001b[0m in \u001b[0;36mshebang\u001b[0;34m(self, line, cell)\u001b[0m\n\u001b[1;32m    243\u001b[0m             \u001b[0msys\u001b[0m\u001b[0;34m.\u001b[0m\u001b[0mstderr\u001b[0m\u001b[0;34m.\u001b[0m\u001b[0mflush\u001b[0m\u001b[0;34m(\u001b[0m\u001b[0;34m)\u001b[0m\u001b[0;34m\u001b[0m\u001b[0;34m\u001b[0m\u001b[0m\n\u001b[1;32m    244\u001b[0m         \u001b[0;32mif\u001b[0m \u001b[0margs\u001b[0m\u001b[0;34m.\u001b[0m\u001b[0mraise_error\u001b[0m \u001b[0;32mand\u001b[0m \u001b[0mp\u001b[0m\u001b[0;34m.\u001b[0m\u001b[0mreturncode\u001b[0m\u001b[0;34m!=\u001b[0m\u001b[0;36m0\u001b[0m\u001b[0;34m:\u001b[0m\u001b[0;34m\u001b[0m\u001b[0;34m\u001b[0m\u001b[0m\n\u001b[0;32m--> 245\u001b[0;31m             \u001b[0;32mraise\u001b[0m \u001b[0mCalledProcessError\u001b[0m\u001b[0;34m(\u001b[0m\u001b[0mp\u001b[0m\u001b[0;34m.\u001b[0m\u001b[0mreturncode\u001b[0m\u001b[0;34m,\u001b[0m \u001b[0mcell\u001b[0m\u001b[0;34m,\u001b[0m \u001b[0moutput\u001b[0m\u001b[0;34m=\u001b[0m\u001b[0mout\u001b[0m\u001b[0;34m,\u001b[0m \u001b[0mstderr\u001b[0m\u001b[0;34m=\u001b[0m\u001b[0merr\u001b[0m\u001b[0;34m)\u001b[0m\u001b[0;34m\u001b[0m\u001b[0;34m\u001b[0m\u001b[0m\n\u001b[0m\u001b[1;32m    246\u001b[0m \u001b[0;34m\u001b[0m\u001b[0m\n\u001b[1;32m    247\u001b[0m     \u001b[0;32mdef\u001b[0m \u001b[0m_run_script\u001b[0m\u001b[0;34m(\u001b[0m\u001b[0mself\u001b[0m\u001b[0;34m,\u001b[0m \u001b[0mp\u001b[0m\u001b[0;34m,\u001b[0m \u001b[0mcell\u001b[0m\u001b[0;34m,\u001b[0m \u001b[0mto_close\u001b[0m\u001b[0;34m)\u001b[0m\u001b[0;34m:\u001b[0m\u001b[0;34m\u001b[0m\u001b[0;34m\u001b[0m\u001b[0m\n",
      "\u001b[0;31mCalledProcessError\u001b[0m: Command 'b'\\n#copy over the new K562 dnase file\\ncp /oak/stanford/groups/akundaje/projects/atlas/dnase_processed/k562_dnase/hg38/cromwell-executions/atac/41bb41c3-c39b-4145-9305-58cc692ef2e4/call-reproducibility_overlap/execution/optimal_peak.narrowPeak.gz hg38_new_k562.narrowPeak.gz\\n\\n#prep universal dnase negatives - for performance assessment\\n#universal_negatives=/srv/scratch/annashch/deeplearning/gecco/encode_dnase/all_dnase_idr_peaks.sorted.bed\\n#merged_universal_neg=\"merged_universal_neg.bed.gz\"\\n#cat $universal_negatives | mergeBed | gzip -c > $merged_universal_neg\\n#bedtools intersect -sorted -a $merged_universal_neg -b $universal_negatives -wa -wb | gzip -c > merged_universal_neg_intersected.bed.gz\\n#./take_best_peak.py | gzip -c > merged_universal_neg_representative_peaks.bed.gz\\n\\n#Map the representative DNase negatives to hg38 using liftover\\nmodule load ucsc_tools\\n#download the liftover chain file if it doesn\\'t exist already\\n[[ -e hg19ToHg38.over.chain.gz ]] || wget http://hgdownload.cse.ucsc.edu/goldenpath/hg19/liftOver/hg19ToHg38.over.chain.gz\\n#run the liftover command\\nliftOver merged_universal_neg_representative_peaks.bed.gz hg19ToHg38.over.chain.gz hg38_merged_universal_neg_representative_peaks.bed unmapped_merged_universal_neg_representative_peaks.bed\\n#compress and clean up\\ngzip hg38_merged_universal_neg_representative_peaks.bed\\nrm unmapped_merged_universal_neg_representative_peaks.bed\\nrm merged_universal_neg_representative_peaks.bed.gz\\n\\n#take 2000bp around the summit of the k562 peaks\\nzcat hg38_new_k562.narrowPeak.gz | perl -lane \\'print $F[0].\"\\\\t\".(($F[1]+$F[9])).\"\\\\t\".(($F[1]+$F[9]))\\' | bedtools slop -g /mnt/data/annotations/by_organism/human/hg20.GRCh38/hg38.chrom.sizes -b 1000 | perl -lane \\'if ($F[2]-$F[1]==2000) {print $_}\\' | gzip -c > 2000bp_around_hg38_new_k562.narrowPeak.gz\\n#take 2000bp around the summit of the DNAse peaks\\nzcat hg38_merged_universal_neg_representative_peaks.bed.gz | perl -lane \\'print $F[0].\"\\\\t\".(($F[1]+$F[9])).\"\\\\t\".(($F[1]+$F[9]))\\' | bedtools slop -g /mnt/data/annotations/by_organism/human/hg20.GRCh38/hg38.chrom.sizes -b 1000 | perl -lane \\'if ($F[2]-$F[1]==2000) {print $_}\\' | gzip -c > 2000bp_around_hg38_merged_universal_neg_representative_peaks.bed.gz\\n\\n#filter out any universal dnase that overlap anything in the k562 set \\nintersectBed -v -a 2000bp_around_hg38_merged_universal_neg_representative_peaks.bed.gz -b 2000bp_around_hg38_new_k562.narrowPeak.gz -wa | gzip -c > nok562_2000bp_around_hg38_merged_universal_neg_representative_peaks.bed.gz\\n#clean up the intermediate file\\nrm 2000bp_around_hg38_merged_universal_neg_representative_peaks.bed.gz\\n\\n#get the fasta sequences underlying the 2000bp regions\\nbedtools getfasta -fi /mnt/data/annotations/by_organism/human/hg20.GRCh38/GRCh38.genome.fa -bed 2000bp_around_hg38_new_k562.narrowPeak.gz > 2000bp_around_hg38_new_k562.fa\\n\\nbedtools getfasta -fi /mnt/data/annotations/by_organism/human/hg20.GRCh38/GRCh38.genome.fa -bed nok562_2000bp_around_hg38_merged_universal_neg_representative_peaks.bed.gz > nok562_2000bp_around_hg38_merged_universal_neg_representative_peaks.fa\\n'' returned non-zero exit status 1."
     ]
    }
   ],
   "source": [
    "%%bash\n",
    "\n",
    "#copy over the new K562 dnase file\n",
    "cp /oak/stanford/groups/akundaje/projects/atlas/dnase_processed/k562_dnase/hg38/cromwell-executions/atac/41bb41c3-c39b-4145-9305-58cc692ef2e4/call-reproducibility_overlap/execution/optimal_peak.narrowPeak.gz hg38_new_k562.narrowPeak.gz\n",
    "\n",
    "#prep universal dnase negatives - for performance assessment\n",
    "#universal_negatives=/srv/scratch/annashch/deeplearning/gecco/encode_dnase/all_dnase_idr_peaks.sorted.bed\n",
    "#merged_universal_neg=\"merged_universal_neg.bed.gz\"\n",
    "#cat $universal_negatives | mergeBed | gzip -c > $merged_universal_neg\n",
    "#bedtools intersect -sorted -a $merged_universal_neg -b $universal_negatives -wa -wb | gzip -c > merged_universal_neg_intersected.bed.gz\n",
    "#./take_best_peak.py | gzip -c > merged_universal_neg_representative_peaks.bed.gz\n",
    "\n",
    "#Map the representative DNase negatives to hg38 using liftover\n",
    "module load ucsc_tools\n",
    "#download the liftover chain file if it doesn't exist already\n",
    "[[ -e hg19ToHg38.over.chain.gz ]] || wget http://hgdownload.cse.ucsc.edu/goldenpath/hg19/liftOver/hg19ToHg38.over.chain.gz\n",
    "#run the liftover command\n",
    "liftOver merged_universal_neg_representative_peaks.bed.gz hg19ToHg38.over.chain.gz hg38_merged_universal_neg_representative_peaks.bed unmapped_merged_universal_neg_representative_peaks.bed\n",
    "#compress and clean up\n",
    "gzip hg38_merged_universal_neg_representative_peaks.bed\n",
    "rm unmapped_merged_universal_neg_representative_peaks.bed\n",
    "rm merged_universal_neg_representative_peaks.bed.gz\n",
    "\n",
    "#take 2000bp around the summit of the k562 peaks\n",
    "zcat hg38_new_k562.narrowPeak.gz | perl -lane 'print $F[0].\"\\t\".(($F[1]+$F[9])).\"\\t\".(($F[1]+$F[9]))' | bedtools slop -g /mnt/data/annotations/by_organism/human/hg20.GRCh38/hg38.chrom.sizes -b 1000 | perl -lane 'if ($F[2]-$F[1]==2000) {print $_}' | gzip -c > 2000bp_around_hg38_new_k562.narrowPeak.gz\n",
    "#take 2000bp around the summit of the DNAse peaks\n",
    "zcat hg38_merged_universal_neg_representative_peaks.bed.gz | perl -lane 'print $F[0].\"\\t\".(($F[1]+$F[9])).\"\\t\".(($F[1]+$F[9]))' | bedtools slop -g /mnt/data/annotations/by_organism/human/hg20.GRCh38/hg38.chrom.sizes -b 1000 | perl -lane 'if ($F[2]-$F[1]==2000) {print $_}' | gzip -c > 2000bp_around_hg38_merged_universal_neg_representative_peaks.bed.gz\n",
    "\n",
    "#filter out any universal dnase that overlap anything in the k562 set \n",
    "intersectBed -v -a 2000bp_around_hg38_merged_universal_neg_representative_peaks.bed.gz -b 2000bp_around_hg38_new_k562.narrowPeak.gz -wa | gzip -c > nok562_2000bp_around_hg38_merged_universal_neg_representative_peaks.bed.gz\n",
    "#clean up the intermediate file\n",
    "rm 2000bp_around_hg38_merged_universal_neg_representative_peaks.bed.gz\n",
    "\n",
    "#get the fasta sequences underlying the 2000bp regions\n",
    "bedtools getfasta -fi /mnt/data/annotations/by_organism/human/hg20.GRCh38/GRCh38.genome.fa -bed 2000bp_around_hg38_new_k562.narrowPeak.gz > 2000bp_around_hg38_new_k562.fa\n",
    "\n",
    "bedtools getfasta -fi /mnt/data/annotations/by_organism/human/hg20.GRCh38/GRCh38.genome.fa -bed nok562_2000bp_around_hg38_merged_universal_neg_representative_peaks.bed.gz > nok562_2000bp_around_hg38_merged_universal_neg_representative_peaks.fa\n"
   ]
  },
  {
   "cell_type": "code",
   "execution_count": null,
   "metadata": {},
   "outputs": [],
   "source": []
  }
 ],
 "metadata": {
  "kernelspec": {
   "display_name": "Python 3",
   "language": "python",
   "name": "python3"
  },
  "language_info": {
   "codemirror_mode": {
    "name": "ipython",
    "version": 3
   },
   "file_extension": ".py",
   "mimetype": "text/x-python",
   "name": "python",
   "nbconvert_exporter": "python",
   "pygments_lexer": "ipython3",
   "version": "3.7.3"
  }
 },
 "nbformat": 4,
 "nbformat_minor": 2
}
