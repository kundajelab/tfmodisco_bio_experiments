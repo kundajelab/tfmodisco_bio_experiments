{
 "cells": [
  {
   "cell_type": "code",
   "execution_count": 1,
   "metadata": {},
   "outputs": [],
   "source": [
    "import numpy as np\n",
    "hyp_imp_scores = np.load(\"/users/amtseng/tfmodisco/data/importance/SPI1/hyp_imp.npy\")\n",
    "onehot_seqs = np.load(\"/users/amtseng/tfmodisco/data/importance/SPI1/onehot_seqs.npy\")\n",
    "imp_scores = hyp_imp_scores*onehot_seqs"
   ]
  },
  {
   "cell_type": "code",
   "execution_count": 2,
   "metadata": {},
   "outputs": [
    {
     "name": "stdout",
     "output_type": "stream",
     "text": [
      "0.75401216\n"
     ]
    }
   ],
   "source": [
    "import os\n",
    "import psutil\n",
    "process = psutil.Process(os.getpid())\n",
    "print(process.memory_info().rss/1000000000)  # in bytes"
   ]
  },
  {
   "cell_type": "code",
   "execution_count": 3,
   "metadata": {
    "scrolled": false
   },
   "outputs": [
    {
     "name": "stderr",
     "output_type": "stream",
     "text": [
      "TF-MoDISco is using the TensorFlow backend.\n"
     ]
    },
    {
     "name": "stdout",
     "output_type": "stream",
     "text": [
      "MEMORY 1.015185408\n",
      "On task task0\n",
      "Computing windowed sums\n",
      "Computing threshold\n",
      "peak(mu)= -0.020624437915759408\n",
      "Mu: -2.062444e-02 +/- 6.162758e-04\n",
      "Lablace_b: 0.08605292548308076 and 0.09095133009717778\n",
      "Thresholds: -0.7833587674396064 and 0.28203887915558923\n",
      "#fdrs pass: 2977 and 795837\n",
      "CDFs: 0.9998585478544302 and 0.9641262809549208\n",
      "Est. FDRs: 0.14991041684807557 and 0.14999949148712452\n"
     ]
    },
    {
     "data": {
      "image/png": "[encoded data removed]",
      "text/plain": [
       "<Figure size 432x288 with 1 Axes>"
      ]
     },
     "metadata": {
      "needs_background": "light"
     },
     "output_type": "display_data"
    },
    {
     "name": "stdout",
     "output_type": "stream",
     "text": [
      "Got 57536 coords\n",
      "After resolving overlaps, got 57536 seqlets\n",
      "Across all tasks, the weakest laplace threshold used was: 0.9641261809549209\n",
      "MEMORY 1.410072576\n",
      "57536 identified in total\n",
      "Reducing weak_threshold_for_counting_sign to match laplace_threshold_cdf, from 0.99 to 0.9641261809549209\n",
      "2 activity patterns with support >= 100 out of 3 possible patterns\n",
      "Metacluster sizes:  [56877, 659]\n",
      "Idx to activities:  {0: '1', 1: '-1'}\n",
      "MEMORY 1.41056\n",
      "On metacluster 1\n",
      "Metacluster size 659\n",
      "Relevant tasks:  ('task0',)\n",
      "Relevant signs:  (-1,)\n"
     ]
    },
    {
     "name": "stderr",
     "output_type": "stream",
     "text": [
      "WARNING: Logging before flag parsing goes to stderr.\n",
      "W0816 01:12:01.292984 140091819308800 deprecation_wrapper.py:119] From /users/avanti/modisco_private/modisco/backend/tensorflow_backend.py:87: The name tf.placeholder is deprecated. Please use tf.compat.v1.placeholder instead.\n",
      "\n"
     ]
    },
    {
     "name": "stdout",
     "output_type": "stream",
     "text": [
      "TfModiscoSeqletsToPatternsFactory: seed=1234\n",
      "(Round 1) num seqlets: 659\n",
      "(Round 1) Computing coarse affmat\n",
      "MEMORY 1.412272128\n",
      "Beginning embedding computation\n",
      "Computing embeddings\n"
     ]
    },
    {
     "name": "stderr",
     "output_type": "stream",
     "text": [
      "Using TensorFlow backend.\n",
      "W0816 01:12:02.269186 140091819308800 deprecation_wrapper.py:119] From /users/avanti/anaconda3/lib/python3.7/site-packages/keras/backend/tensorflow_backend.py:174: The name tf.get_default_session is deprecated. Please use tf.compat.v1.get_default_session instead.\n",
      "\n",
      "W0816 01:12:02.270436 140091819308800 deprecation_wrapper.py:119] From /users/avanti/anaconda3/lib/python3.7/site-packages/keras/backend/tensorflow_backend.py:184: The name tf.ConfigProto is deprecated. Please use tf.compat.v1.ConfigProto instead.\n",
      "\n",
      "W0816 01:12:02.271845 140091819308800 deprecation_wrapper.py:119] From /users/avanti/anaconda3/lib/python3.7/site-packages/keras/backend/tensorflow_backend.py:186: The name tf.Session is deprecated. Please use tf.compat.v1.Session instead.\n",
      "\n",
      "W0816 01:12:03.297555 140091819308800 deprecation_wrapper.py:119] From /users/avanti/anaconda3/lib/python3.7/site-packages/keras/backend/tensorflow_backend.py:190: The name tf.global_variables is deprecated. Please use tf.compat.v1.global_variables instead.\n",
      "\n"
     ]
    },
    {
     "name": "stdout",
     "output_type": "stream",
     "text": [
      "Finished embedding computation in 3.3 s\n",
      "Starting affinity matrix computations\n",
      "Normalization computed in 0.01 s\n",
      "Cosine similarity mat computed in 0.04 s\n",
      "Normalization computed in 0.01 s\n",
      "Cosine similarity mat computed in 0.03 s\n",
      "Finished affinity matrix computations in 0.07 s\n",
      "(Round 1) Compute nearest neighbors from coarse affmat\n",
      "MEMORY 2.955399168\n",
      "Computed nearest neighbors in 0.04 s\n",
      "MEMORY 2.957852672\n",
      "(Round 1) Computing affinity matrix on nearest neighbors\n",
      "MEMORY 2.957852672\n",
      "Launching nearest neighbors affmat calculation job\n",
      "Job completed in: 8.62 s\n",
      "Launching nearest neighbors affmat calculation job\n",
      "Job completed in: 4.39 s\n",
      "(Round 1) Computed affinity matrix on nearest neighbors in 13.85 s\n",
      "MEMORY 3.519250432\n",
      "Filtered down to 530 of 659\n",
      "(Round 1) Retained 530 rows out of 659 after filtering\n",
      "MEMORY 3.519520768\n",
      "(Round 1) Computing density adapted affmat\n",
      "MEMORY 3.519520768\n",
      "[t-SNE] Computing 31 nearest neighbors...\n",
      "[t-SNE] Indexed 530 samples in 0.000s...\n",
      "[t-SNE] Computed neighbors for 530 samples in 0.004s...\n",
      "[t-SNE] Computed conditional probabilities for sample 530 / 530\n",
      "[t-SNE] Mean sigma: 0.373015\n",
      "(Round 1) Computing clustering\n",
      "MEMORY 3.519623168\n",
      "Beginning preprocessing + Louvain\n",
      "Wrote graph to binary file in 0.19260931015014648 seconds\n",
      "Running Louvain modularity optimization\n"
     ]
    },
    {
     "name": "stderr",
     "output_type": "stream",
     "text": [
      "[Parallel(n_jobs=4)]: Using backend LokyBackend with 4 concurrent workers.\n"
     ]
    },
    {
     "name": "stdout",
     "output_type": "stream",
     "text": [
      "Louvain completed 200 runs in 1.913015365600586 seconds\n"
     ]
    },
    {
     "name": "stderr",
     "output_type": "stream",
     "text": [
      "[Parallel(n_jobs=4)]: Done 200 out of 200 | elapsed:    1.6s finished\n"
     ]
    },
    {
     "name": "stdout",
     "output_type": "stream",
     "text": [
      "Wrote graph to binary file in 0.22200584411621094 seconds\n",
      "Running Louvain modularity optimization\n",
      "After 1 runs, maximum modularity is Q = 0.807883\n",
      "After 3 runs, maximum modularity is Q = 0.809151\n",
      "After 7 runs, maximum modularity is Q = 0.809393\n",
      "After 8 runs, maximum modularity is Q = 0.812065\n",
      "After 11 runs, maximum modularity is Q = 0.812288\n",
      "After 17 runs, maximum modularity is Q = 0.814978\n",
      "Louvain completed 67 runs in 14.464414596557617 seconds\n",
      "Preproc + Louvain took 17.120626211166382 s\n",
      "Got 11 clusters after round 1\n",
      "Counts:\n",
      "{8: 19, 3: 60, 6: 51, 0: 93, 2: 60, 7: 33, 1: 70, 9: 18, 10: 17, 4: 55, 5: 54}\n",
      "MEMORY 3.52034816\n",
      "(Round 1) Aggregating seqlets in each cluster\n",
      "MEMORY 3.52034816\n",
      "Aggregating for cluster 0 with 93 seqlets\n",
      "MEMORY 3.52034816\n",
      "Trimmed 0 out of 93\n",
      "Skipped 15 seqlets\n",
      "Skipped 2 seqlets\n",
      "Dropping cluster 0 with 76 seqlets due to sign disagreement\n",
      "MEMORY 3.520421888\n",
      "Aggregating for cluster 1 with 70 seqlets\n",
      "MEMORY 3.520421888\n",
      "Trimmed 3 out of 70\n",
      "Skipped 2 seqlets\n",
      "Dropping cluster 1 with 65 seqlets due to sign disagreement\n",
      "MEMORY 3.520544768\n",
      "Aggregating for cluster 2 with 60 seqlets\n",
      "MEMORY 3.520544768\n"
     ]
    },
    {
     "name": "stderr",
     "output_type": "stream",
     "text": [
      "/users/avanti/modisco_private/modisco/core.py:972: RuntimeWarning: invalid value encountered in true_divide\n",
      "  /self.per_position_counts[:,None]),\n",
      "/users/avanti/modisco_private/modisco/core.py:974: RuntimeWarning: invalid value encountered in true_divide\n",
      "  /self.per_position_counts[::-1,None]),\n"
     ]
    },
    {
     "name": "stdout",
     "output_type": "stream",
     "text": [
      "Trimmed 3 out of 60\n",
      "Skipped 4 seqlets\n",
      "Dropping cluster 2 with 53 seqlets due to sign disagreement\n",
      "MEMORY 3.520544768\n",
      "Aggregating for cluster 3 with 60 seqlets\n",
      "MEMORY 3.520544768\n",
      "Trimmed 8 out of 60\n",
      "Skipped 1 seqlets\n",
      "Dropping cluster 3 with 51 seqlets due to sign disagreement\n",
      "MEMORY 3.52075776\n",
      "Aggregating for cluster 4 with 55 seqlets\n",
      "MEMORY 3.52075776\n",
      "Trimmed 4 out of 55\n",
      "Skipped 1 seqlets\n",
      "Dropping cluster 4 with 50 seqlets due to sign disagreement\n",
      "MEMORY 3.520856064\n",
      "Aggregating for cluster 5 with 54 seqlets\n",
      "MEMORY 3.520856064\n",
      "Trimmed 1 out of 54\n",
      "Skipped 11 seqlets\n",
      "Skipped 1 seqlets\n",
      "Dropping cluster 5 with 41 seqlets due to sign disagreement\n",
      "MEMORY 3.520974848\n",
      "Aggregating for cluster 6 with 51 seqlets\n",
      "MEMORY 3.520974848\n",
      "Trimmed 10 out of 51\n",
      "Skipped 3 seqlets\n",
      "Aggregating for cluster 7 with 33 seqlets\n",
      "MEMORY 3.521011712\n",
      "Trimmed 2 out of 33\n",
      "Skipped 2 seqlets\n",
      "Dropping cluster 7 with 29 seqlets due to sign disagreement\n",
      "MEMORY 3.52106496\n",
      "Aggregating for cluster 8 with 19 seqlets\n",
      "MEMORY 3.52106496\n",
      "Trimmed 0 out of 19\n",
      "Skipped 2 seqlets\n",
      "Dropping cluster 8 with 17 seqlets due to sign disagreement\n",
      "MEMORY 3.521073152\n",
      "Aggregating for cluster 9 with 18 seqlets\n",
      "MEMORY 3.521073152\n",
      "Trimmed 0 out of 18\n",
      "Skipped 3 seqlets\n",
      "Dropping cluster 9 with 15 seqlets due to sign disagreement\n",
      "MEMORY 3.521073152\n",
      "Aggregating for cluster 10 with 17 seqlets\n",
      "MEMORY 3.521073152\n",
      "Trimmed 0 out of 17\n",
      "Skipped 1 seqlets\n",
      "Dropping cluster 10 with 16 seqlets due to sign disagreement\n",
      "MEMORY 3.52110592\n",
      "(Round 2) num seqlets: 38\n",
      "(Round 2) Computing coarse affmat\n",
      "MEMORY 3.521122304\n",
      "Beginning embedding computation\n",
      "Computing embeddings\n",
      "Finished embedding computation in 0.03 s\n",
      "Starting affinity matrix computations\n",
      "Normalization computed in 0.0 s\n",
      "Cosine similarity mat computed in 0.0 s\n",
      "Normalization computed in 0.0 s\n",
      "Cosine similarity mat computed in 0.0 s\n",
      "Finished affinity matrix computations in 0.01 s\n",
      "(Round 2) Compute nearest neighbors from coarse affmat\n",
      "MEMORY 3.521437696\n",
      "Computed nearest neighbors in 0.0 s\n",
      "MEMORY 3.52169984\n",
      "(Round 2) Computing affinity matrix on nearest neighbors\n",
      "MEMORY 3.52169984\n",
      "Launching nearest neighbors affmat calculation job\n",
      "Job completed in: 0.18 s\n",
      "Launching nearest neighbors affmat calculation job\n",
      "Job completed in: 0.18 s\n",
      "(Round 2) Computed affinity matrix on nearest neighbors in 0.38 s\n",
      "MEMORY 3.52169984\n",
      "Not applying filtering for rounds above first round\n",
      "MEMORY 3.52169984\n",
      "(Round 2) Computing density adapted affmat\n",
      "MEMORY 3.52169984\n",
      "[t-SNE] Computing 31 nearest neighbors...\n",
      "[t-SNE] Indexed 38 samples in 0.000s...\n",
      "[t-SNE] Computed neighbors for 38 samples in 0.001s...\n",
      "[t-SNE] Computed conditional probabilities for sample 38 / 38\n",
      "[t-SNE] Mean sigma: 0.420237\n",
      "(Round 2) Computing clustering\n",
      "MEMORY 3.52169984\n",
      "Beginning preprocessing + Louvain\n",
      "Wrote graph to binary file in 0.022132396697998047 seconds\n",
      "Running Louvain modularity optimization\n"
     ]
    },
    {
     "name": "stderr",
     "output_type": "stream",
     "text": [
      "[Parallel(n_jobs=4)]: Using backend LokyBackend with 4 concurrent workers.\n"
     ]
    },
    {
     "name": "stdout",
     "output_type": "stream",
     "text": [
      "Louvain completed 200 runs in 1.4772164821624756 seconds\n"
     ]
    },
    {
     "name": "stderr",
     "output_type": "stream",
     "text": [
      "[Parallel(n_jobs=4)]: Done 200 out of 200 | elapsed:    1.3s finished\n"
     ]
    },
    {
     "name": "stdout",
     "output_type": "stream",
     "text": [
      "Wrote graph to binary file in 0.006419658660888672 seconds\n",
      "Running Louvain modularity optimization\n",
      "After 1 runs, maximum modularity is Q = 0.812322\n",
      "Louvain completed 51 runs in 10.180344581604004 seconds\n",
      "Preproc + Louvain took 11.824201583862305 s\n",
      "Got 6 clusters after round 2\n",
      "Counts:\n",
      "{0: 8, 5: 5, 2: 7, 1: 7, 3: 6, 4: 5}\n",
      "MEMORY 3.52186368\n",
      "(Round 2) Aggregating seqlets in each cluster\n",
      "MEMORY 3.52186368\n",
      "Aggregating for cluster 0 with 8 seqlets\n",
      "MEMORY 3.52186368\n",
      "Trimmed 0 out of 8\n",
      "Aggregating for cluster 1 with 7 seqlets\n",
      "MEMORY 3.52186368\n",
      "Trimmed 0 out of 7\n",
      "Dropping cluster 1 with 7 seqlets due to sign disagreement\n",
      "MEMORY 3.52186368\n",
      "Aggregating for cluster 2 with 7 seqlets\n",
      "MEMORY 3.52186368\n",
      "Trimmed 1 out of 7\n",
      "Aggregating for cluster 3 with 6 seqlets\n",
      "MEMORY 3.52186368\n",
      "Trimmed 0 out of 6\n",
      "Aggregating for cluster 4 with 5 seqlets\n",
      "MEMORY 3.52186368\n",
      "Trimmed 0 out of 5\n",
      "Aggregating for cluster 5 with 5 seqlets\n",
      "MEMORY 3.52186368\n",
      "Trimmed 0 out of 5\n",
      "Got 5 clusters\n",
      "Splitting into subclusters...\n",
      "MEMORY 3.52186368\n",
      "Beginning subclustering\n",
      "Beginning subclustering\n",
      "Beginning subclustering\n",
      "Beginning subclustering\n",
      "Beginning subclustering\n",
      "Merging on 5 clusters\n",
      "MEMORY 3.52186368\n",
      "On merging iteration 1\n",
      "Computing pattern to seqlet distances\n"
     ]
    },
    {
     "name": "stderr",
     "output_type": "stream",
     "text": [
      "/users/avanti/modisco_private/modisco/core.py:972: RuntimeWarning: invalid value encountered in true_divide\n",
      "  /self.per_position_counts[:,None]),\n",
      "/users/avanti/modisco_private/modisco/core.py:974: RuntimeWarning: invalid value encountered in true_divide\n",
      "  /self.per_position_counts[::-1,None]),\n"
     ]
    },
    {
     "name": "stdout",
     "output_type": "stream",
     "text": [
      "Computing pattern to pattern distances\n",
      "Got 5 patterns after merging\n",
      "MEMORY 3.52186368\n",
      "Performing seqlet reassignment\n",
      "MEMORY 3.52186368\n",
      "Got 0 patterns after reassignment\n",
      "MEMORY 3.52186368\n",
      "Total time taken is 50.67s\n",
      "MEMORY 3.52186368\n",
      "On metacluster 0\n",
      "Metacluster size 56877 limited to 20000\n",
      "Relevant tasks:  ('task0',)\n",
      "Relevant signs:  (1,)\n",
      "TfModiscoSeqletsToPatternsFactory: seed=1234\n",
      "(Round 1) num seqlets: 20000\n",
      "(Round 1) Computing coarse affmat\n",
      "MEMORY 3.52212992\n",
      "Beginning embedding computation\n",
      "Computing embeddings\n",
      "Finished embedding computation in 4.91 s\n",
      "Starting affinity matrix computations\n",
      "Normalization computed in 0.24 s\n",
      "Cosine similarity mat computed in 10.7 s\n",
      "Normalization computed in 0.14 s\n",
      "Cosine similarity mat computed in 10.37 s\n",
      "Finished affinity matrix computations in 21.08 s\n",
      "(Round 1) Compute nearest neighbors from coarse affmat\n",
      "MEMORY 5.256056832\n",
      "Computed nearest neighbors in 7.55 s\n",
      "MEMORY 6.856060928\n",
      "(Round 1) Computing affinity matrix on nearest neighbors\n",
      "MEMORY 6.856060928\n",
      "Launching nearest neighbors affmat calculation job\n",
      "Job completed in: 131.91 s\n",
      "Launching nearest neighbors affmat calculation job\n",
      "Job completed in: 132.72 s\n",
      "(Round 1) Computed affinity matrix on nearest neighbors in 288.14 s\n",
      "MEMORY 24.843309056\n",
      "Filtered down to 14912 of 20000\n",
      "(Round 1) Retained 14912 rows out of 20000 after filtering\n",
      "MEMORY 24.843440128\n",
      "(Round 1) Computing density adapted affmat\n",
      "MEMORY 24.843440128\n",
      "[t-SNE] Computing 31 nearest neighbors...\n",
      "[t-SNE] Indexed 14912 samples in 0.165s...\n",
      "[t-SNE] Computed neighbors for 14912 samples in 1.895s...\n",
      "[t-SNE] Computed conditional probabilities for sample 1000 / 14912\n",
      "[t-SNE] Computed conditional probabilities for sample 2000 / 14912\n",
      "[t-SNE] Computed conditional probabilities for sample 3000 / 14912\n",
      "[t-SNE] Computed conditional probabilities for sample 4000 / 14912\n",
      "[t-SNE] Computed conditional probabilities for sample 5000 / 14912\n",
      "[t-SNE] Computed conditional probabilities for sample 6000 / 14912\n",
      "[t-SNE] Computed conditional probabilities for sample 7000 / 14912\n",
      "[t-SNE] Computed conditional probabilities for sample 8000 / 14912\n",
      "[t-SNE] Computed conditional probabilities for sample 9000 / 14912\n",
      "[t-SNE] Computed conditional probabilities for sample 10000 / 14912\n",
      "[t-SNE] Computed conditional probabilities for sample 11000 / 14912\n",
      "[t-SNE] Computed conditional probabilities for sample 12000 / 14912\n",
      "[t-SNE] Computed conditional probabilities for sample 13000 / 14912\n",
      "[t-SNE] Computed conditional probabilities for sample 14000 / 14912\n",
      "[t-SNE] Computed conditional probabilities for sample 14912 / 14912\n",
      "[t-SNE] Mean sigma: 0.336359\n",
      "(Round 1) Computing clustering\n",
      "MEMORY 24.843440128\n",
      "Beginning preprocessing + Louvain\n",
      "Wrote graph to binary file in 4.816037654876709 seconds\n",
      "Running Louvain modularity optimization\n"
     ]
    },
    {
     "name": "stderr",
     "output_type": "stream",
     "text": [
      "[Parallel(n_jobs=4)]: Using backend LokyBackend with 4 concurrent workers.\n",
      "[Parallel(n_jobs=4)]: Done  42 tasks      | elapsed:    3.5s\n",
      "[Parallel(n_jobs=4)]: Done 192 tasks      | elapsed:   14.9s\n",
      "[Parallel(n_jobs=4)]: Done 200 out of 200 | elapsed:   15.6s finished\n"
     ]
    },
    {
     "ename": "KeyboardInterrupt",
     "evalue": "",
     "output_type": "error",
     "traceback": [
      "\u001b[0;31m---------------------------------------------------------------------------\u001b[0m",
      "\u001b[0;31mKeyboardInterrupt\u001b[0m                         Traceback (most recent call last)",
      "\u001b[0;32m<ipython-input-3-3e31c914413a>\u001b[0m in \u001b[0;36m<module>\u001b[0;34m\u001b[0m\n\u001b[1;32m     30\u001b[0m     \u001b[0mcontrib_scores\u001b[0m\u001b[0;34m=\u001b[0m\u001b[0mtask_to_act_scores\u001b[0m\u001b[0;34m,\u001b[0m\u001b[0;34m\u001b[0m\u001b[0;34m\u001b[0m\u001b[0m\n\u001b[1;32m     31\u001b[0m     \u001b[0mhypothetical_contribs\u001b[0m\u001b[0;34m=\u001b[0m\u001b[0mtask_to_hyp_scores\u001b[0m\u001b[0;34m,\u001b[0m\u001b[0;34m\u001b[0m\u001b[0;34m\u001b[0m\u001b[0m\n\u001b[0;32m---> 32\u001b[0;31m     \u001b[0mone_hot\u001b[0m\u001b[0;34m=\u001b[0m\u001b[0monehot_seqs\u001b[0m\u001b[0;34m\u001b[0m\u001b[0;34m\u001b[0m\u001b[0m\n\u001b[0m\u001b[1;32m     33\u001b[0m )\n",
      "\u001b[0;32m~/modisco_private/modisco/tfmodisco_workflow/workflow.py\u001b[0m in \u001b[0;36m__call__\u001b[0;34m(self, task_names, contrib_scores, hypothetical_contribs, one_hot)\u001b[0m\n\u001b[1;32m    319\u001b[0m                 other_comparison_track_names=[])\n\u001b[1;32m    320\u001b[0m \u001b[0;34m\u001b[0m\u001b[0m\n\u001b[0;32m--> 321\u001b[0;31m             \u001b[0mseqlets_to_patterns_result\u001b[0m \u001b[0;34m=\u001b[0m \u001b[0mseqlets_to_patterns\u001b[0m\u001b[0;34m(\u001b[0m\u001b[0mmetacluster_seqlets\u001b[0m\u001b[0;34m)\u001b[0m\u001b[0;34m\u001b[0m\u001b[0;34m\u001b[0m\u001b[0m\n\u001b[0m\u001b[1;32m    322\u001b[0m             \u001b[0mmetacluster_idx_to_submetacluster_results\u001b[0m\u001b[0;34m[\u001b[0m\u001b[0mmetacluster_idx\u001b[0m\u001b[0;34m]\u001b[0m \u001b[0;34m=\u001b[0m\u001b[0;31m\\\u001b[0m\u001b[0;34m\u001b[0m\u001b[0;34m\u001b[0m\u001b[0m\n\u001b[1;32m    323\u001b[0m                 SubMetaclusterResults(\n",
      "\u001b[0;32m~/modisco_private/modisco/tfmodisco_workflow/seqlets_to_patterns.py\u001b[0m in \u001b[0;36m__call__\u001b[0;34m(self, seqlets)\u001b[0m\n\u001b[1;32m    614\u001b[0m                 \u001b[0msys\u001b[0m\u001b[0;34m.\u001b[0m\u001b[0mstdout\u001b[0m\u001b[0;34m.\u001b[0m\u001b[0mflush\u001b[0m\u001b[0;34m(\u001b[0m\u001b[0;34m)\u001b[0m\u001b[0;34m\u001b[0m\u001b[0;34m\u001b[0m\u001b[0m\n\u001b[1;32m    615\u001b[0m \u001b[0;34m\u001b[0m\u001b[0m\n\u001b[0;32m--> 616\u001b[0;31m             \u001b[0mcluster_results\u001b[0m \u001b[0;34m=\u001b[0m \u001b[0mclusterer\u001b[0m\u001b[0;34m(\u001b[0m\u001b[0mdensity_adapted_affmat\u001b[0m\u001b[0;34m)\u001b[0m\u001b[0;34m\u001b[0m\u001b[0;34m\u001b[0m\u001b[0m\n\u001b[0m\u001b[1;32m    617\u001b[0m             \u001b[0mcluster_results_sets\u001b[0m\u001b[0;34m.\u001b[0m\u001b[0mappend\u001b[0m\u001b[0;34m(\u001b[0m\u001b[0mcluster_results\u001b[0m\u001b[0;34m)\u001b[0m\u001b[0;34m\u001b[0m\u001b[0;34m\u001b[0m\u001b[0m\n\u001b[1;32m    618\u001b[0m             \u001b[0mnum_clusters\u001b[0m \u001b[0;34m=\u001b[0m \u001b[0mmax\u001b[0m\u001b[0;34m(\u001b[0m\u001b[0mcluster_results\u001b[0m\u001b[0;34m.\u001b[0m\u001b[0mcluster_indices\u001b[0m\u001b[0;34m+\u001b[0m\u001b[0;36m1\u001b[0m\u001b[0;34m)\u001b[0m\u001b[0;34m\u001b[0m\u001b[0;34m\u001b[0m\u001b[0m\n",
      "\u001b[0;32m~/modisco_private/modisco/cluster/core.py\u001b[0m in \u001b[0;36m__call__\u001b[0;34m(self, orig_affinity_mat)\u001b[0m\n\u001b[1;32m     99\u001b[0m         \u001b[0mall_start\u001b[0m \u001b[0;34m=\u001b[0m \u001b[0mtime\u001b[0m\u001b[0;34m.\u001b[0m\u001b[0mtime\u001b[0m\u001b[0;34m(\u001b[0m\u001b[0;34m)\u001b[0m\u001b[0;34m\u001b[0m\u001b[0;34m\u001b[0m\u001b[0m\n\u001b[1;32m    100\u001b[0m         \u001b[0;32mif\u001b[0m \u001b[0;34m(\u001b[0m\u001b[0mself\u001b[0m\u001b[0;34m.\u001b[0m\u001b[0maffmat_transformer\u001b[0m \u001b[0;32mis\u001b[0m \u001b[0;32mnot\u001b[0m \u001b[0;32mNone\u001b[0m\u001b[0;34m)\u001b[0m\u001b[0;34m:\u001b[0m\u001b[0;34m\u001b[0m\u001b[0;34m\u001b[0m\u001b[0m\n\u001b[0;32m--> 101\u001b[0;31m             \u001b[0maffinity_mat\u001b[0m \u001b[0;34m=\u001b[0m \u001b[0mself\u001b[0m\u001b[0;34m.\u001b[0m\u001b[0maffmat_transformer\u001b[0m\u001b[0;34m(\u001b[0m\u001b[0morig_affinity_mat\u001b[0m\u001b[0;34m)\u001b[0m\u001b[0;34m\u001b[0m\u001b[0;34m\u001b[0m\u001b[0m\n\u001b[0m\u001b[1;32m    102\u001b[0m         \u001b[0;32melse\u001b[0m\u001b[0;34m:\u001b[0m\u001b[0;34m\u001b[0m\u001b[0;34m\u001b[0m\u001b[0m\n\u001b[1;32m    103\u001b[0m             \u001b[0maffinity_mat\u001b[0m \u001b[0;34m=\u001b[0m \u001b[0morig_affinity_mat\u001b[0m\u001b[0;34m\u001b[0m\u001b[0;34m\u001b[0m\u001b[0m\n",
      "\u001b[0;32m~/modisco_private/modisco/affinitymat/transformers.py\u001b[0m in \u001b[0;36m__call__\u001b[0;34m(self, affinity_mat)\u001b[0m\n\u001b[1;32m     93\u001b[0m \u001b[0;34m\u001b[0m\u001b[0m\n\u001b[1;32m     94\u001b[0m     \u001b[0;32mdef\u001b[0m \u001b[0m__call__\u001b[0m\u001b[0;34m(\u001b[0m\u001b[0mself\u001b[0m\u001b[0;34m,\u001b[0m \u001b[0maffinity_mat\u001b[0m\u001b[0;34m)\u001b[0m\u001b[0;34m:\u001b[0m\u001b[0;34m\u001b[0m\u001b[0;34m\u001b[0m\u001b[0m\n\u001b[0;32m---> 95\u001b[0;31m         \u001b[0;32mreturn\u001b[0m \u001b[0mself\u001b[0m\u001b[0;34m.\u001b[0m\u001b[0mfunc\u001b[0m\u001b[0;34m(\u001b[0m\u001b[0maffinity_mat\u001b[0m\u001b[0;34m)\u001b[0m\u001b[0;34m\u001b[0m\u001b[0;34m\u001b[0m\u001b[0m\n\u001b[0m\u001b[1;32m     96\u001b[0m \u001b[0;34m\u001b[0m\u001b[0m\n\u001b[1;32m     97\u001b[0m \u001b[0;34m\u001b[0m\u001b[0m\n",
      "\u001b[0;32m~/modisco_private/modisco/affinitymat/transformers.py\u001b[0m in \u001b[0;36m<lambda>\u001b[0;34m(x)\u001b[0m\n\u001b[1;32m     84\u001b[0m     \u001b[0;32mdef\u001b[0m \u001b[0mchain\u001b[0m\u001b[0;34m(\u001b[0m\u001b[0mself\u001b[0m\u001b[0;34m,\u001b[0m \u001b[0mother_affmat_post_processor\u001b[0m\u001b[0;34m)\u001b[0m\u001b[0;34m:\u001b[0m\u001b[0;34m\u001b[0m\u001b[0;34m\u001b[0m\u001b[0m\n\u001b[1;32m     85\u001b[0m         return AdhocAffMatTransformer(\n\u001b[0;32m---> 86\u001b[0;31m                 func = lambda x: other_affmat_post_processor(self(x))) \n\u001b[0m\u001b[1;32m     87\u001b[0m \u001b[0;34m\u001b[0m\u001b[0m\n\u001b[1;32m     88\u001b[0m \u001b[0;34m\u001b[0m\u001b[0m\n",
      "\u001b[0;32m~/modisco_private/modisco/affinitymat/transformers.py\u001b[0m in \u001b[0;36m__call__\u001b[0;34m(self, affinity_mat)\u001b[0m\n\u001b[1;32m    364\u001b[0m                 \u001b[0mparallel_threads\u001b[0m\u001b[0;34m=\u001b[0m\u001b[0mself\u001b[0m\u001b[0;34m.\u001b[0m\u001b[0mparallel_threads\u001b[0m\u001b[0;34m,\u001b[0m\u001b[0;34m\u001b[0m\u001b[0;34m\u001b[0m\u001b[0m\n\u001b[1;32m    365\u001b[0m                 \u001b[0mseed\u001b[0m\u001b[0;34m=\u001b[0m\u001b[0mself\u001b[0m\u001b[0;34m.\u001b[0m\u001b[0mseed\u001b[0m\u001b[0;34m,\u001b[0m\u001b[0;34m\u001b[0m\u001b[0;34m\u001b[0m\u001b[0m\n\u001b[0;32m--> 366\u001b[0;31m                 verbose=self.verbose)\n\u001b[0m",
      "\u001b[0;32m~/modisco_private/modisco/cluster/phenograph/cluster.py\u001b[0m in \u001b[0;36mrunlouvain_average_runs_given_graph\u001b[0;34m(graph, n_runs, level_to_return, parallel_threads, verbose, max_clusters, tic, seed)\u001b[0m\n\u001b[1;32m    157\u001b[0m                     \u001b[0mmax_clusters\u001b[0m\u001b[0;34m=\u001b[0m\u001b[0mmax_clusters\u001b[0m\u001b[0;34m,\u001b[0m \u001b[0mn_runs\u001b[0m\u001b[0;34m=\u001b[0m\u001b[0mn_runs\u001b[0m\u001b[0;34m,\u001b[0m\u001b[0;34m\u001b[0m\u001b[0;34m\u001b[0m\u001b[0m\n\u001b[1;32m    158\u001b[0m                     \u001b[0mseed\u001b[0m\u001b[0;34m=\u001b[0m\u001b[0mseed\u001b[0m\u001b[0;34m,\u001b[0m \u001b[0mparallel_threads\u001b[0m\u001b[0;34m=\u001b[0m\u001b[0mparallel_threads\u001b[0m\u001b[0;34m,\u001b[0m\u001b[0;34m\u001b[0m\u001b[0;34m\u001b[0m\u001b[0m\n\u001b[0;32m--> 159\u001b[0;31m                     verbose=verbose)\n\u001b[0m\u001b[1;32m    160\u001b[0m     \u001b[0;32mif\u001b[0m \u001b[0;34m(\u001b[0m\u001b[0mtic\u001b[0m \u001b[0;32mis\u001b[0m \u001b[0;32mnot\u001b[0m \u001b[0;32mNone\u001b[0m\u001b[0;34m)\u001b[0m\u001b[0;34m:\u001b[0m\u001b[0;34m\u001b[0m\u001b[0;34m\u001b[0m\u001b[0m\n\u001b[1;32m    161\u001b[0m         \u001b[0mprint\u001b[0m\u001b[0;34m(\u001b[0m\u001b[0;34m\"PhenoGraph complete in {} seconds\"\u001b[0m\u001b[0;34m.\u001b[0m\u001b[0mformat\u001b[0m\u001b[0;34m(\u001b[0m\u001b[0mtime\u001b[0m\u001b[0;34m.\u001b[0m\u001b[0mtime\u001b[0m\u001b[0;34m(\u001b[0m\u001b[0;34m)\u001b[0m \u001b[0;34m-\u001b[0m \u001b[0mtic\u001b[0m\u001b[0;34m)\u001b[0m\u001b[0;34m)\u001b[0m\u001b[0;34m\u001b[0m\u001b[0;34m\u001b[0m\u001b[0m\n",
      "\u001b[0;32m~/modisco_private/modisco/cluster/phenograph/core.py\u001b[0m in \u001b[0;36mrunlouvain_average_runs\u001b[0;34m(filename, n_runs, level_to_return, verbose, max_clusters, seed, parallel_threads)\u001b[0m\n\u001b[1;32m    408\u001b[0m                             len(communities_list[0])))\n\u001b[1;32m    409\u001b[0m     \u001b[0;32mfor\u001b[0m \u001b[0mcommunities\u001b[0m \u001b[0;32min\u001b[0m \u001b[0mcommunities_list\u001b[0m\u001b[0;34m:\u001b[0m\u001b[0;34m\u001b[0m\u001b[0;34m\u001b[0m\u001b[0m\n\u001b[0;32m--> 410\u001b[0;31m         \u001b[0mcoocc_count\u001b[0m \u001b[0;34m+=\u001b[0m \u001b[0;34m(\u001b[0m\u001b[0mcommunities\u001b[0m\u001b[0;34m[\u001b[0m\u001b[0;34m:\u001b[0m\u001b[0;34m,\u001b[0m\u001b[0;32mNone\u001b[0m\u001b[0;34m]\u001b[0m \u001b[0;34m==\u001b[0m \u001b[0mcommunities\u001b[0m\u001b[0;34m[\u001b[0m\u001b[0;32mNone\u001b[0m\u001b[0;34m,\u001b[0m\u001b[0;34m:\u001b[0m\u001b[0;34m]\u001b[0m\u001b[0;34m)\u001b[0m\u001b[0;34m\u001b[0m\u001b[0;34m\u001b[0m\u001b[0m\n\u001b[0m\u001b[1;32m    411\u001b[0m     print(\"Louvain completed {} runs in {} seconds\".format(\n\u001b[1;32m    412\u001b[0m           n_runs, time.time() - tic))\n",
      "\u001b[0;31mKeyboardInterrupt\u001b[0m: "
     ]
    }
   ],
   "source": [
    "%matplotlib inline\n",
    "from importlib import reload\n",
    "import modisco\n",
    "import modisco.tfmodisco_workflow.seqlets_to_patterns\n",
    "import modisco.tfmodisco_workflow.workflow\n",
    "reload(modisco.tfmodisco_workflow.seqlets_to_patterns)\n",
    "reload(modisco.tfmodisco_workflow.workflow)\n",
    "import modisco.tfmodisco_workflow.seqlets_to_patterns as tfm_seqlets_to_patterns\n",
    "import modisco.tfmodisco_workflow.workflow as tfm_workflow\n",
    "\n",
    "task_to_act_scores, task_to_hyp_scores = {}, {}\n",
    "task_to_act_scores[\"task0\"] = imp_scores\n",
    "task_to_hyp_scores[\"task0\"] = hyp_imp_scores\n",
    "\n",
    "pipeline = tfm_workflow.TfModiscoWorkflow(\n",
    "    sliding_window_size=15,\n",
    "    flank_size=5,\n",
    "    target_seqlet_fdr=0.15,\n",
    "    seqlets_to_patterns_factory=\\\n",
    "        tfm_seqlets_to_patterns.TfModiscoSeqletsToPatternsFactory(\n",
    "        trim_to_window_size=15,\n",
    "        initial_flank_to_add=5,\n",
    "        kmer_len=5, num_gaps=1,\n",
    "        num_mismatches=0,\n",
    "        final_min_cluster_size=60\n",
    "    )\n",
    ")\n",
    "results = pipeline(\n",
    "    task_names=[\"task0\"],\n",
    "    contrib_scores=task_to_act_scores,\n",
    "    hypothetical_contribs=task_to_hyp_scores,\n",
    "    one_hot=onehot_seqs\n",
    ")\n"
   ]
  },
  {
   "cell_type": "code",
   "execution_count": null,
   "metadata": {},
   "outputs": [],
   "source": []
  }
 ],
 "metadata": {
  "kernelspec": {
   "display_name": "Python 3",
   "language": "python",
   "name": "python3"
  },
  "language_info": {
   "codemirror_mode": {
    "name": "ipython",
    "version": 3
   },
   "file_extension": ".py",
   "mimetype": "text/x-python",
   "name": "python",
   "nbconvert_exporter": "python",
   "pygments_lexer": "ipython3",
   "version": "3.7.3"
  }
 },
 "nbformat": 4,
 "nbformat_minor": 2
}
